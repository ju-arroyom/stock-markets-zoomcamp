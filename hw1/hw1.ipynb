{
 "cells": [
  {
   "cell_type": "code",
   "execution_count": null,
   "id": "723fd1dc",
   "metadata": {},
   "outputs": [],
   "source": [
    "import pandas as pd\n",
    "import datetime\n",
    "\n",
    "import yfinance as yf"
   ]
  },
  {
   "cell_type": "markdown",
   "id": "2dba1523",
   "metadata": {},
   "source": [
    "# Question 1"
   ]
  },
  {
   "cell_type": "code",
   "execution_count": 2,
   "id": "0844af3e",
   "metadata": {},
   "outputs": [],
   "source": [
    "url = \"https://en.wikipedia.org/wiki/List_of_S%26P_500_companies\"\n",
    "sp_five_df = pd.read_html(url)[0]"
   ]
  },
  {
   "cell_type": "code",
   "execution_count": 3,
   "id": "23cebb7c",
   "metadata": {},
   "outputs": [],
   "source": [
    "sp_five_df['year_added'] = pd.to_datetime(sp_five_df['Date added']).dt.year"
   ]
  },
  {
   "cell_type": "code",
   "execution_count": 4,
   "id": "6eebae59",
   "metadata": {},
   "outputs": [
    {
     "data": {
      "text/html": [
       "<div>\n",
       "<style scoped>\n",
       "    .dataframe tbody tr th:only-of-type {\n",
       "        vertical-align: middle;\n",
       "    }\n",
       "\n",
       "    .dataframe tbody tr th {\n",
       "        vertical-align: top;\n",
       "    }\n",
       "\n",
       "    .dataframe thead th {\n",
       "        text-align: right;\n",
       "    }\n",
       "</style>\n",
       "<table border=\"1\" class=\"dataframe\">\n",
       "  <thead>\n",
       "    <tr style=\"text-align: right;\">\n",
       "      <th></th>\n",
       "      <th>year_added</th>\n",
       "      <th>cnts</th>\n",
       "    </tr>\n",
       "  </thead>\n",
       "  <tbody>\n",
       "    <tr>\n",
       "      <th>0</th>\n",
       "      <td>1957</td>\n",
       "      <td>53</td>\n",
       "    </tr>\n",
       "    <tr>\n",
       "      <th>47</th>\n",
       "      <td>2016</td>\n",
       "      <td>23</td>\n",
       "    </tr>\n",
       "    <tr>\n",
       "      <th>48</th>\n",
       "      <td>2017</td>\n",
       "      <td>23</td>\n",
       "    </tr>\n",
       "    <tr>\n",
       "      <th>50</th>\n",
       "      <td>2019</td>\n",
       "      <td>22</td>\n",
       "    </tr>\n",
       "    <tr>\n",
       "      <th>39</th>\n",
       "      <td>2008</td>\n",
       "      <td>17</td>\n",
       "    </tr>\n",
       "  </tbody>\n",
       "</table>\n",
       "</div>"
      ],
      "text/plain": [
       "    year_added  cnts\n",
       "0         1957    53\n",
       "47        2016    23\n",
       "48        2017    23\n",
       "50        2019    22\n",
       "39        2008    17"
      ]
     },
     "execution_count": 4,
     "metadata": {},
     "output_type": "execute_result"
    }
   ],
   "source": [
    "(sp_five_df\n",
    " .groupby('year_added')\n",
    " .size().to_frame().reset_index()\n",
    " .rename(columns={0:'cnts'})\n",
    " .sort_values(\"cnts\", ascending=False)\n",
    " ).head(5)\n"
   ]
  },
  {
   "cell_type": "markdown",
   "id": "849626a4",
   "metadata": {},
   "source": [
    "# Question 2"
   ]
  },
  {
   "cell_type": "code",
   "execution_count": 5,
   "id": "8e60bc06",
   "metadata": {},
   "outputs": [],
   "source": [
    "world_indices = {\n",
    "    'S&P 500': '^GSPC',\n",
    "    'Shanghai Composite': '000001.SS',\n",
    "    'HANG SENG INDEX': '^HSI',\n",
    "    'S&P/ASX 200': '^AXJO',\n",
    "    'Nifty 50': '^NSEI',\n",
    "    'S&P/TSX Composite': '^GSPTSE',\n",
    "    'DAX': '^GDAXI',\n",
    "    'FTSE 100': '^FTSE',\n",
    "    'Nikkei 225': '^N225',\n",
    "    'IPC Mexico': '^MXX',\n",
    "    'Ibovespa': '^BVSP'\n",
    "}\n"
   ]
  },
  {
   "cell_type": "code",
   "execution_count": 6,
   "id": "45533085",
   "metadata": {},
   "outputs": [],
   "source": [
    "start_date = '2025-01-01'\n",
    "end_date = '2025-05-01'"
   ]
  },
  {
   "cell_type": "code",
   "execution_count": 7,
   "id": "536bd210",
   "metadata": {},
   "outputs": [
    {
     "name": "stdout",
     "output_type": "stream",
     "text": [
      "YF.download() has changed argument auto_adjust default to True\n"
     ]
    },
    {
     "name": "stderr",
     "output_type": "stream",
     "text": [
      "[*********************100%***********************]  11 of 11 completed\n"
     ]
    }
   ],
   "source": [
    "data = yf.download(list(world_indices.values()), start=start_date, end=end_date, group_by='ticker')\n"
   ]
  },
  {
   "cell_type": "code",
   "execution_count": 8,
   "id": "dd60a2c4",
   "metadata": {},
   "outputs": [],
   "source": [
    "closing_prices  = pd.DataFrame({\n",
    "    f\"{idx}\".lower(): data[ticker]['Close'] for idx, ticker in world_indices.items()\n",
    "})\n"
   ]
  },
  {
   "cell_type": "code",
   "execution_count": 9,
   "id": "95d6c365",
   "metadata": {},
   "outputs": [],
   "source": [
    "ytd_performance = {}\n",
    "\n",
    "for ticker in closing_prices.columns:\n",
    "\n",
    "    series = closing_prices[ticker].dropna()\n",
    "    if len(series) >= 2:\n",
    "        first = series.iloc[0]\n",
    "        last = series.iloc[-1]\n",
    "        ytd_performance[ticker] = ((last - first) / first) * 100\n",
    "\n",
    "ytd_performance = pd.Series(ytd_performance).sort_values(ascending=False).round(2)"
   ]
  },
  {
   "cell_type": "code",
   "execution_count": 10,
   "id": "06a25475",
   "metadata": {},
   "outputs": [
    {
     "data": {
      "text/plain": [
       "ipc mexico            13.05\n",
       "hang seng index       12.72\n",
       "ibovespa              12.44\n",
       "dax                   12.35\n",
       "ftse 100               2.84\n",
       "nifty 50               2.49\n",
       "shanghai composite     0.50\n",
       "s&p/tsx composite     -0.23\n",
       "s&p/asx 200           -0.91\n",
       "s&p 500               -5.10\n",
       "nikkei 225            -8.30\n",
       "dtype: float64"
      ]
     },
     "execution_count": 10,
     "metadata": {},
     "output_type": "execute_result"
    }
   ],
   "source": [
    "ytd_performance"
   ]
  },
  {
   "cell_type": "markdown",
   "id": "00588df2",
   "metadata": {},
   "source": [
    "# Question 3"
   ]
  },
  {
   "cell_type": "code",
   "execution_count": 11,
   "id": "4ec80d17",
   "metadata": {},
   "outputs": [
    {
     "name": "stderr",
     "output_type": "stream",
     "text": [
      "[*********************100%***********************]  1 of 1 completed\n"
     ]
    }
   ],
   "source": [
    "\n",
    "ticker = \"^GSPC\"\n",
    "start_date = \"1950-01-01\"\n",
    "\n",
    "# Download the data\n",
    "sp500_data = yf.download(ticker, start=start_date, end=None)\n"
   ]
  },
  {
   "cell_type": "code",
   "execution_count": 12,
   "id": "c40ea778",
   "metadata": {},
   "outputs": [],
   "source": [
    "sp500_data = pd.DataFrame({'Close': sp500_data['Close']['^GSPC']})"
   ]
  },
  {
   "cell_type": "code",
   "execution_count": 13,
   "id": "a03baff1",
   "metadata": {},
   "outputs": [],
   "source": [
    "sp500_data['cummulative_max'] = sp500_data['Close'].cummax()"
   ]
  },
  {
   "cell_type": "code",
   "execution_count": 14,
   "id": "829aee0f",
   "metadata": {},
   "outputs": [],
   "source": [
    "sp500_data['cummax_shifted'] = sp500_data['cummulative_max'].shift(1)\n"
   ]
  },
  {
   "cell_type": "code",
   "execution_count": 15,
   "id": "c7038388",
   "metadata": {},
   "outputs": [],
   "source": [
    "sp500_data['is_all_time_high'] = sp500_data['Close'] > sp500_data['cummax_shifted']"
   ]
  },
  {
   "cell_type": "code",
   "execution_count": 18,
   "id": "7a9a121b",
   "metadata": {},
   "outputs": [],
   "source": [
    "all_time_high = sp500_data.query(\"is_all_time_high==True\")"
   ]
  },
  {
   "cell_type": "code",
   "execution_count": 97,
   "id": "64285ffc",
   "metadata": {},
   "outputs": [],
   "source": [
    "min_between_all_high = []\n",
    "for i in range(1, len(all_time_high)):\n",
    "    start_date = all_time_high.index[i - 1]\n",
    "    end_date = all_time_high.index[i]\n",
    "    min_value = sp500_data.loc[start_date:end_date]['Close'].min()\n",
    "    min_date = sp500_data.loc[start_date:end_date]['Close'].idxmin()\n",
    "    min_between_all_high.append({\"previous_high_date\": start_date,\n",
    "                                 \"next_high_date\": end_date,\n",
    "                                 'min_high_date':min_date,\n",
    "                                  \"previous_high\": sp500_data.loc[start_date]['Close'],\n",
    "                                  \"next_high\": sp500_data.loc[end_date]['Close'],\n",
    "                                  \"min_between_highs\": min_value})"
   ]
  },
  {
   "cell_type": "code",
   "execution_count": 98,
   "id": "f56a2018",
   "metadata": {},
   "outputs": [],
   "source": [
    "consecutive_high_df = pd.DataFrame(min_between_all_high)"
   ]
  },
  {
   "cell_type": "code",
   "execution_count": 99,
   "id": "340c0452",
   "metadata": {},
   "outputs": [],
   "source": [
    "def drawdown_percentage(row):\n",
    "    if row['previous_high'] > row['next_high']:\n",
    "        max_value = row['previous_high']\n",
    "    else:\n",
    "        max_value = row['next_high']\n",
    "    return ((max_value- row['min_between_highs'])/max_value)*100 "
   ]
  },
  {
   "cell_type": "code",
   "execution_count": 100,
   "id": "5e3f60a2",
   "metadata": {},
   "outputs": [],
   "source": [
    "consecutive_high_df['drawdown_percentage'] = consecutive_high_df.apply(drawdown_percentage, axis=1).round(2)"
   ]
  },
  {
   "cell_type": "code",
   "execution_count": 101,
   "id": "203e692e",
   "metadata": {},
   "outputs": [],
   "source": [
    "consecutive_high_df['drawdown_duration'] =  consecutive_high_df['min_high_date'] - consecutive_high_df['previous_high_date']"
   ]
  },
  {
   "cell_type": "code",
   "execution_count": 103,
   "id": "3bde589a",
   "metadata": {},
   "outputs": [],
   "source": [
    "correction_duration_df = consecutive_high_df.query(\"drawdown_percentage > 5\").sort_values(\"drawdown_percentage\", ascending=False).copy()"
   ]
  },
  {
   "cell_type": "code",
   "execution_count": 107,
   "id": "9d1222d1",
   "metadata": {},
   "outputs": [],
   "source": [
    "top_ten = correction_duration_df.head(10)"
   ]
  },
  {
   "cell_type": "code",
   "execution_count": 116,
   "id": "66a616d7",
   "metadata": {},
   "outputs": [
    {
     "name": "stdout",
     "output_type": "stream",
     "text": [
      "2007-10-09 to 2009-03-09: 56.89% over 517 days 00:00:00\n",
      "2000-03-24 to 2002-10-09: 49.24% over 929 days 00:00:00\n",
      "1973-01-11 to 1974-10-03: 48.72% over 630 days 00:00:00\n",
      "1968-11-29 to 1970-05-26: 36.3% over 543 days 00:00:00\n",
      "2020-02-19 to 2020-03-23: 34.0% over 33 days 00:00:00\n",
      "1987-08-25 to 1987-12-04: 33.76% over 101 days 00:00:00\n",
      "1980-11-28 to 1982-08-12: 28.31% over 622 days 00:00:00\n",
      "1961-12-12 to 1962-06-26: 27.99% over 196 days 00:00:00\n",
      "2022-01-03 to 2022-10-12: 26.09% over 282 days 00:00:00\n",
      "1966-02-09 to 1966-10-07: 22.39% over 240 days 00:00:00\n"
     ]
    }
   ],
   "source": [
    "for i in top_ten.index:\n",
    "    start_date = top_ten.loc[i]['previous_high_date'].strftime(\"%Y-%m-%d\")\n",
    "    end_date = top_ten.loc[i]['min_high_date'].strftime(\"%Y-%m-%d\")\n",
    "    drawdown = top_ten.loc[i]['drawdown_percentage']\n",
    "    duration = top_ten.loc[i]['drawdown_duration']\n",
    "    print(f\"{start_date} to {end_date}: {drawdown}% over {duration}\")"
   ]
  },
  {
   "cell_type": "code",
   "execution_count": 104,
   "id": "570f4ebb",
   "metadata": {},
   "outputs": [
    {
     "data": {
      "text/plain": [
       "count                             84\n",
       "mean      99 days 14:51:25.714285714\n",
       "std      167 days 16:27:02.159153774\n",
       "min                  6 days 00:00:00\n",
       "25%                 19 days 18:00:00\n",
       "50%                 34 days 00:00:00\n",
       "75%                 76 days 12:00:00\n",
       "max                929 days 00:00:00\n",
       "Name: drawdown_duration, dtype: object"
      ]
     },
     "execution_count": 104,
     "metadata": {},
     "output_type": "execute_result"
    }
   ],
   "source": [
    "correction_duration_df['drawdown_duration'].describe(percentiles=[0.25, 0.5, 0.75])"
   ]
  },
  {
   "cell_type": "code",
   "execution_count": null,
   "id": "0415683a",
   "metadata": {},
   "outputs": [],
   "source": []
  }
 ],
 "metadata": {
  "kernelspec": {
   "display_name": "markets",
   "language": "python",
   "name": "python3"
  },
  "language_info": {
   "codemirror_mode": {
    "name": "ipython",
    "version": 3
   },
   "file_extension": ".py",
   "mimetype": "text/x-python",
   "name": "python",
   "nbconvert_exporter": "python",
   "pygments_lexer": "ipython3",
   "version": "3.10.16"
  }
 },
 "nbformat": 4,
 "nbformat_minor": 5
}
