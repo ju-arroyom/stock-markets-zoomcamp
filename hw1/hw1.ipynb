{
 "cells": [
  {
   "cell_type": "code",
   "execution_count": 1,
   "id": "723fd1dc",
   "metadata": {},
   "outputs": [
    {
     "name": "stderr",
     "output_type": "stream",
     "text": [
      "/opt/conda/envs/markets/lib/python3.10/site-packages/requests/__init__.py:86: RequestsDependencyWarning: Unable to find acceptable character detection dependency (chardet or charset_normalizer).\n",
      "  warnings.warn(\n"
     ]
    }
   ],
   "source": [
    "import pandas as pd\n",
    "import numpy as np\n",
    "import datetime\n",
    "import yfinance as yf\n",
    "pd.set_option('display.max_rows', 200)"
   ]
  },
  {
   "cell_type": "markdown",
   "id": "2dba1523",
   "metadata": {},
   "source": [
    "# Question 1"
   ]
  },
  {
   "cell_type": "code",
   "execution_count": 2,
   "id": "0844af3e",
   "metadata": {},
   "outputs": [],
   "source": [
    "url = \"https://en.wikipedia.org/wiki/List_of_S%26P_500_companies\"\n",
    "sp_five_df = pd.read_html(url)[0]"
   ]
  },
  {
   "cell_type": "code",
   "execution_count": 3,
   "id": "23cebb7c",
   "metadata": {},
   "outputs": [],
   "source": [
    "sp_five_df['year_added'] = pd.to_datetime(sp_five_df['Date added']).dt.year"
   ]
  },
  {
   "cell_type": "code",
   "execution_count": 4,
   "id": "6eebae59",
   "metadata": {},
   "outputs": [
    {
     "data": {
      "text/html": [
       "<div>\n",
       "<style scoped>\n",
       "    .dataframe tbody tr th:only-of-type {\n",
       "        vertical-align: middle;\n",
       "    }\n",
       "\n",
       "    .dataframe tbody tr th {\n",
       "        vertical-align: top;\n",
       "    }\n",
       "\n",
       "    .dataframe thead th {\n",
       "        text-align: right;\n",
       "    }\n",
       "</style>\n",
       "<table border=\"1\" class=\"dataframe\">\n",
       "  <thead>\n",
       "    <tr style=\"text-align: right;\">\n",
       "      <th></th>\n",
       "      <th>year_added</th>\n",
       "      <th>cnts</th>\n",
       "    </tr>\n",
       "  </thead>\n",
       "  <tbody>\n",
       "    <tr>\n",
       "      <th>0</th>\n",
       "      <td>1957</td>\n",
       "      <td>53</td>\n",
       "    </tr>\n",
       "    <tr>\n",
       "      <th>47</th>\n",
       "      <td>2016</td>\n",
       "      <td>23</td>\n",
       "    </tr>\n",
       "    <tr>\n",
       "      <th>48</th>\n",
       "      <td>2017</td>\n",
       "      <td>23</td>\n",
       "    </tr>\n",
       "    <tr>\n",
       "      <th>50</th>\n",
       "      <td>2019</td>\n",
       "      <td>22</td>\n",
       "    </tr>\n",
       "    <tr>\n",
       "      <th>39</th>\n",
       "      <td>2008</td>\n",
       "      <td>17</td>\n",
       "    </tr>\n",
       "  </tbody>\n",
       "</table>\n",
       "</div>"
      ],
      "text/plain": [
       "    year_added  cnts\n",
       "0         1957    53\n",
       "47        2016    23\n",
       "48        2017    23\n",
       "50        2019    22\n",
       "39        2008    17"
      ]
     },
     "execution_count": 4,
     "metadata": {},
     "output_type": "execute_result"
    }
   ],
   "source": [
    "(sp_five_df\n",
    " .groupby('year_added')\n",
    " .size().to_frame().reset_index()\n",
    " .rename(columns={0:'cnts'})\n",
    " .sort_values(\"cnts\", ascending=False)\n",
    " ).head(5)\n"
   ]
  },
  {
   "cell_type": "markdown",
   "id": "849626a4",
   "metadata": {},
   "source": [
    "# Question 2"
   ]
  },
  {
   "cell_type": "code",
   "execution_count": 5,
   "id": "8e60bc06",
   "metadata": {},
   "outputs": [],
   "source": [
    "world_indices = {\n",
    "    'S&P 500': '^GSPC',\n",
    "    'Shanghai Composite': '000001.SS',\n",
    "    'HANG SENG INDEX': '^HSI',\n",
    "    'S&P/ASX 200': '^AXJO',\n",
    "    'Nifty 50': '^NSEI',\n",
    "    'S&P/TSX Composite': '^GSPTSE',\n",
    "    'DAX': '^GDAXI',\n",
    "    'FTSE 100': '^FTSE',\n",
    "    'Nikkei 225': '^N225',\n",
    "    'IPC Mexico': '^MXX',\n",
    "    'Ibovespa': '^BVSP'\n",
    "}\n"
   ]
  },
  {
   "cell_type": "code",
   "execution_count": 6,
   "id": "45533085",
   "metadata": {},
   "outputs": [],
   "source": [
    "start_date = '2025-01-01'\n",
    "end_date = '2025-05-01'"
   ]
  },
  {
   "cell_type": "code",
   "execution_count": 7,
   "id": "536bd210",
   "metadata": {},
   "outputs": [
    {
     "name": "stdout",
     "output_type": "stream",
     "text": [
      "YF.download() has changed argument auto_adjust default to True\n"
     ]
    },
    {
     "name": "stderr",
     "output_type": "stream",
     "text": [
      "[*********************100%***********************]  11 of 11 completed\n"
     ]
    }
   ],
   "source": [
    "data = yf.download(list(world_indices.values()), start=start_date, end=end_date, group_by='ticker')\n"
   ]
  },
  {
   "cell_type": "code",
   "execution_count": 8,
   "id": "dd60a2c4",
   "metadata": {},
   "outputs": [],
   "source": [
    "closing_prices  = pd.DataFrame({\n",
    "    f\"{idx}\".lower(): data[ticker]['Close'] for idx, ticker in world_indices.items()\n",
    "})\n"
   ]
  },
  {
   "cell_type": "code",
   "execution_count": 9,
   "id": "95d6c365",
   "metadata": {},
   "outputs": [],
   "source": [
    "ytd_performance = {}\n",
    "\n",
    "for ticker in closing_prices.columns:\n",
    "\n",
    "    series = closing_prices[ticker].dropna()\n",
    "    if len(series) >= 2:\n",
    "        first = series.iloc[0]\n",
    "        last = series.iloc[-1]\n",
    "        ytd_performance[ticker] = ((last - first) / first) * 100\n",
    "\n",
    "ytd_performance = pd.Series(ytd_performance).sort_values(ascending=False).round(2)"
   ]
  },
  {
   "cell_type": "code",
   "execution_count": 10,
   "id": "06a25475",
   "metadata": {},
   "outputs": [
    {
     "data": {
      "text/plain": [
       "ipc mexico            13.05\n",
       "hang seng index       12.72\n",
       "ibovespa              12.44\n",
       "dax                   12.35\n",
       "ftse 100               2.84\n",
       "nifty 50               2.49\n",
       "shanghai composite     0.50\n",
       "s&p/tsx composite     -0.23\n",
       "s&p/asx 200           -0.91\n",
       "s&p 500               -5.10\n",
       "nikkei 225            -8.30\n",
       "dtype: float64"
      ]
     },
     "execution_count": 10,
     "metadata": {},
     "output_type": "execute_result"
    }
   ],
   "source": [
    "ytd_performance"
   ]
  },
  {
   "cell_type": "markdown",
   "id": "00588df2",
   "metadata": {},
   "source": [
    "# Question 3"
   ]
  },
  {
   "cell_type": "code",
   "execution_count": 11,
   "id": "4ec80d17",
   "metadata": {},
   "outputs": [
    {
     "name": "stderr",
     "output_type": "stream",
     "text": [
      "[*********************100%***********************]  1 of 1 completed\n"
     ]
    }
   ],
   "source": [
    "\n",
    "ticker = \"^GSPC\"\n",
    "start_date = \"1950-01-01\"\n",
    "\n",
    "# Download the data\n",
    "sp500_data = yf.download(ticker, start=start_date, end=None)\n"
   ]
  },
  {
   "cell_type": "code",
   "execution_count": 12,
   "id": "c40ea778",
   "metadata": {},
   "outputs": [],
   "source": [
    "sp500_data = pd.DataFrame({'Close': sp500_data['Close']['^GSPC']})"
   ]
  },
  {
   "cell_type": "code",
   "execution_count": 13,
   "id": "a03baff1",
   "metadata": {},
   "outputs": [],
   "source": [
    "sp500_data['cummulative_max'] = sp500_data['Close'].cummax()"
   ]
  },
  {
   "cell_type": "code",
   "execution_count": 14,
   "id": "829aee0f",
   "metadata": {},
   "outputs": [],
   "source": [
    "sp500_data['cummax_shifted'] = sp500_data['cummulative_max'].shift(1)\n"
   ]
  },
  {
   "cell_type": "code",
   "execution_count": 15,
   "id": "c7038388",
   "metadata": {},
   "outputs": [],
   "source": [
    "sp500_data['is_all_time_high'] = sp500_data['Close'] > sp500_data['cummax_shifted']"
   ]
  },
  {
   "cell_type": "code",
   "execution_count": 16,
   "id": "7a9a121b",
   "metadata": {},
   "outputs": [],
   "source": [
    "all_time_high = sp500_data.query(\"is_all_time_high==True\")"
   ]
  },
  {
   "cell_type": "code",
   "execution_count": 17,
   "id": "64285ffc",
   "metadata": {},
   "outputs": [],
   "source": [
    "min_between_all_high = []\n",
    "for i in range(1, len(all_time_high)):\n",
    "    start_date = all_time_high.index[i - 1]\n",
    "    end_date = all_time_high.index[i]\n",
    "    min_value = sp500_data.loc[start_date:end_date]['Close'].min()\n",
    "    min_date = sp500_data.loc[start_date:end_date]['Close'].idxmin()\n",
    "    min_between_all_high.append({\"previous_high_date\": start_date,\n",
    "                                 \"next_high_date\": end_date,\n",
    "                                 'min_high_date':min_date,\n",
    "                                  \"previous_high\": sp500_data.loc[start_date]['Close'],\n",
    "                                  \"next_high\": sp500_data.loc[end_date]['Close'],\n",
    "                                  \"min_between_highs\": min_value})"
   ]
  },
  {
   "cell_type": "code",
   "execution_count": 18,
   "id": "f56a2018",
   "metadata": {},
   "outputs": [],
   "source": [
    "consecutive_high_df = pd.DataFrame(min_between_all_high)"
   ]
  },
  {
   "cell_type": "code",
   "execution_count": 19,
   "id": "340c0452",
   "metadata": {},
   "outputs": [],
   "source": [
    "def drawdown_percentage(row):\n",
    "    if row['previous_high'] > row['next_high']:\n",
    "        max_value = row['previous_high']\n",
    "    else:\n",
    "        max_value = row['next_high']\n",
    "    return ((max_value- row['min_between_highs'])/max_value)*100 "
   ]
  },
  {
   "cell_type": "code",
   "execution_count": 20,
   "id": "5e3f60a2",
   "metadata": {},
   "outputs": [],
   "source": [
    "consecutive_high_df['drawdown_percentage'] = consecutive_high_df.apply(drawdown_percentage, axis=1).round(2)"
   ]
  },
  {
   "cell_type": "code",
   "execution_count": 21,
   "id": "203e692e",
   "metadata": {},
   "outputs": [],
   "source": [
    "consecutive_high_df['drawdown_duration'] =  consecutive_high_df['min_high_date'] - consecutive_high_df['previous_high_date']"
   ]
  },
  {
   "cell_type": "code",
   "execution_count": 22,
   "id": "3bde589a",
   "metadata": {},
   "outputs": [],
   "source": [
    "correction_duration_df = consecutive_high_df.query(\"drawdown_percentage > 5\").sort_values(\"drawdown_percentage\", ascending=False).copy()"
   ]
  },
  {
   "cell_type": "code",
   "execution_count": 23,
   "id": "9d1222d1",
   "metadata": {},
   "outputs": [],
   "source": [
    "top_ten = correction_duration_df.head(10)"
   ]
  },
  {
   "cell_type": "code",
   "execution_count": 24,
   "id": "66a616d7",
   "metadata": {},
   "outputs": [
    {
     "name": "stdout",
     "output_type": "stream",
     "text": [
      "2007-10-09 to 2009-03-09: 56.89% over 517 days 00:00:00\n",
      "2000-03-24 to 2002-10-09: 49.24% over 929 days 00:00:00\n",
      "1973-01-11 to 1974-10-03: 48.72% over 630 days 00:00:00\n",
      "1968-11-29 to 1970-05-26: 36.3% over 543 days 00:00:00\n",
      "2020-02-19 to 2020-03-23: 34.0% over 33 days 00:00:00\n",
      "1987-08-25 to 1987-12-04: 33.76% over 101 days 00:00:00\n",
      "1980-11-28 to 1982-08-12: 28.31% over 622 days 00:00:00\n",
      "1961-12-12 to 1962-06-26: 27.99% over 196 days 00:00:00\n",
      "2022-01-03 to 2022-10-12: 26.09% over 282 days 00:00:00\n",
      "1966-02-09 to 1966-10-07: 22.39% over 240 days 00:00:00\n"
     ]
    }
   ],
   "source": [
    "for i in top_ten.index:\n",
    "    start_date = top_ten.loc[i]['previous_high_date'].strftime(\"%Y-%m-%d\")\n",
    "    end_date = top_ten.loc[i]['min_high_date'].strftime(\"%Y-%m-%d\")\n",
    "    drawdown = top_ten.loc[i]['drawdown_percentage']\n",
    "    duration = top_ten.loc[i]['drawdown_duration']\n",
    "    print(f\"{start_date} to {end_date}: {drawdown}% over {duration}\")"
   ]
  },
  {
   "cell_type": "code",
   "execution_count": 25,
   "id": "570f4ebb",
   "metadata": {},
   "outputs": [
    {
     "data": {
      "text/plain": [
       "count                             84\n",
       "mean      99 days 14:51:25.714285714\n",
       "std      167 days 16:27:02.159153774\n",
       "min                  6 days 00:00:00\n",
       "25%                 19 days 18:00:00\n",
       "50%                 34 days 00:00:00\n",
       "75%                 76 days 12:00:00\n",
       "max                929 days 00:00:00\n",
       "Name: drawdown_duration, dtype: object"
      ]
     },
     "execution_count": 25,
     "metadata": {},
     "output_type": "execute_result"
    }
   ],
   "source": [
    "correction_duration_df['drawdown_duration'].describe(percentiles=[0.25, 0.5, 0.75])"
   ]
  },
  {
   "cell_type": "markdown",
   "id": "7610affc",
   "metadata": {},
   "source": [
    "# Question 4"
   ]
  },
  {
   "cell_type": "code",
   "execution_count": 26,
   "id": "0415683a",
   "metadata": {},
   "outputs": [],
   "source": [
    "\n",
    "url = \"https://raw.githubusercontent.com/DataTalksClub/stock-markets-analytics-zoomcamp/main/cohorts/2025/ha1_Amazon.csv\"\n",
    "df_amazon = pd.read_csv(url, delimiter=';')"
   ]
  },
  {
   "cell_type": "code",
   "execution_count": 27,
   "id": "03d09ea1",
   "metadata": {},
   "outputs": [],
   "source": [
    "df_amazon = df_amazon[df_amazon['Symbol'].notnull()].copy()"
   ]
  },
  {
   "cell_type": "code",
   "execution_count": 28,
   "id": "b9cb7ec8",
   "metadata": {},
   "outputs": [
    {
     "data": {
      "text/plain": [
       "array(['-', '???.36', '???.49', '???.14', '01.???', '0.83', '0.8', '0.58',\n",
       "       '0.35', '0.21', '0.18', '0.22', '0.14', '0.42', '0.45', '0.62',\n",
       "       '0.48', '0.36', '0.37', '0.07', '0.31', '0.2', '0.23', '0.28',\n",
       "       '0.24', '0.16', '0.13', '0.06', '0.09', '0.05', '0.04', '0.03',\n",
       "       '0.08', '-0.01', '0.01', '-0.04', '0.02', '-0.02'], dtype=object)"
      ]
     },
     "execution_count": 28,
     "metadata": {},
     "output_type": "execute_result"
    }
   ],
   "source": [
    "df_amazon['EPS Estimate'].unique()"
   ]
  },
  {
   "cell_type": "code",
   "execution_count": 29,
   "id": "b014302d",
   "metadata": {},
   "outputs": [
    {
     "data": {
      "text/plain": [
       "array(['-', '???.59', '???.86', '???.43', '???.26', '0.98', '1', '0.94',\n",
       "       '0.65', '0.31', '0.25', '0.17', '0.18', '0.37', '0.29', '0.76',\n",
       "       '0.79', '0.7', '0.62', '0.52', '0.32', '0.21', '0.26', '0.35',\n",
       "       '0.3', '0.16', '0.11', '0.03', '0.02', '0.07', '0.08', '0.09',\n",
       "       '0.05', '0.01', '-0.01', '-0.05', '0.04', '-0.02', '-0.03'],\n",
       "      dtype=object)"
      ]
     },
     "execution_count": 29,
     "metadata": {},
     "output_type": "execute_result"
    }
   ],
   "source": [
    "df_amazon['Reported EPS'].unique()"
   ]
  },
  {
   "cell_type": "code",
   "execution_count": 30,
   "id": "45524bb4",
   "metadata": {},
   "outputs": [
    {
     "data": {
      "text/plain": [
       "array(['-', '+16.74', '+24.47', '+25.17', '+22.58', '+17.91', '+24.55',\n",
       "       '+60.85', '+85.73', '+46.36', '+42.56', '-21.08', '+24.9', '-11.7',\n",
       "       '+62.48', '-31.39', '+22.91', '+65.48', '+94.84', '+66.95',\n",
       "       '+605.29', '-19.83', '+60.62', '-8.43', '-6.27', '+50.11', '+6.34',\n",
       "       '+82.98', '+99.84', '+159.65', '+17.33', '+1656.76', '-71.81',\n",
       "       '+36.46', '+14.35', '-33.25', '+60.65', '+81.42', '-36.36',\n",
       "       '+225.37', '+237.28', '+1.96', '+168.18', '-29.25', '-85.44',\n",
       "       '+0.88', '-22.94', '-2.27', '-137.31', '+130.77', '-24.62',\n",
       "       '-191.14', '+555.74', '+293.26', '127', '-42.67', '+17.28',\n",
       "       '-27.32', '+3.03', '+7.28', '-16.45', '+9.05', '+17.96', '+34.57',\n",
       "       '+2.17', '+32.6', '+33.2', '+9.67', '+42.09', '+5.13', '+0.67',\n",
       "       '+4.74', '+20.41', '+68.61', '+8.8', '+50.6', '-22.84', '+2.39',\n",
       "       '+120.86', '-29.44', '+13.85', '-20.91', '-12.19', '-4.28',\n",
       "       '-5.06', '+16.87', '+0.21', '+12.7', '+64.47', '+136.97', '+32.87',\n",
       "       '100', '+82.01', '+89.2', '+231.2', '+0.25', '+27.14', '+17.39',\n",
       "       '+2.57', '+12.95', '+6.2', '+3.79', '-13.36', '+7.54', '+0.47',\n",
       "       '+19.92', '+22.22', '+15.53', '+1.34', '+13.92', '+11.41',\n",
       "       '+13.29', '+13.33'], dtype=object)"
      ]
     },
     "execution_count": 30,
     "metadata": {},
     "output_type": "execute_result"
    }
   ],
   "source": [
    "df_amazon['Surprise (%)'].unique()"
   ]
  },
  {
   "cell_type": "markdown",
   "id": "269dcd8f",
   "metadata": {},
   "source": [
    "# Clean Csv Data\n",
    "\n",
    "- Refer to https://finance.yahoo.com/calendar/earnings?symbol=AMZN\n"
   ]
  },
  {
   "cell_type": "code",
   "execution_count": 38,
   "id": "1f7f246b",
   "metadata": {},
   "outputs": [],
   "source": [
    "df_amazon['EPS Estimate'] = df_amazon['EPS Estimate'].replace(\"^\\?\\?\\?\", \"1\", regex=True)\n",
    "df_amazon['Reported EPS'] = df_amazon['Reported EPS'].replace(\"^\\?\\?\\?\", \"1\", regex=True)\n",
    "df_amazon['Surprise (%)'] = df_amazon['Surprise (%)'].replace(\"^\\+\", \"\", regex=True)"
   ]
  },
  {
   "cell_type": "code",
   "execution_count": 39,
   "id": "9af47123",
   "metadata": {},
   "outputs": [
    {
     "data": {
      "text/html": [
       "<div>\n",
       "<style scoped>\n",
       "    .dataframe tbody tr th:only-of-type {\n",
       "        vertical-align: middle;\n",
       "    }\n",
       "\n",
       "    .dataframe tbody tr th {\n",
       "        vertical-align: top;\n",
       "    }\n",
       "\n",
       "    .dataframe thead th {\n",
       "        text-align: right;\n",
       "    }\n",
       "</style>\n",
       "<table border=\"1\" class=\"dataframe\">\n",
       "  <thead>\n",
       "    <tr style=\"text-align: right;\">\n",
       "      <th></th>\n",
       "      <th>Symbol</th>\n",
       "      <th>Company</th>\n",
       "      <th>Earnings Date</th>\n",
       "      <th>EPS Estimate</th>\n",
       "      <th>Reported EPS</th>\n",
       "      <th>Surprise (%)</th>\n",
       "    </tr>\n",
       "  </thead>\n",
       "  <tbody>\n",
       "    <tr>\n",
       "      <th>0</th>\n",
       "      <td>AMZN</td>\n",
       "      <td>Amazon.com Inc</td>\n",
       "      <td>April 29, 2026 at 6 AM EDT</td>\n",
       "      <td>-</td>\n",
       "      <td>-</td>\n",
       "      <td>-</td>\n",
       "    </tr>\n",
       "    <tr>\n",
       "      <th>1</th>\n",
       "      <td>AMZN</td>\n",
       "      <td>Amazon.com Inc</td>\n",
       "      <td>February 4, 2026 at 4 PM EST</td>\n",
       "      <td>-</td>\n",
       "      <td>-</td>\n",
       "      <td>-</td>\n",
       "    </tr>\n",
       "    <tr>\n",
       "      <th>2</th>\n",
       "      <td>AMZN</td>\n",
       "      <td>Amazon.com Inc</td>\n",
       "      <td>October 29, 2025 at 6 AM EDT</td>\n",
       "      <td>-</td>\n",
       "      <td>-</td>\n",
       "      <td>-</td>\n",
       "    </tr>\n",
       "    <tr>\n",
       "      <th>3</th>\n",
       "      <td>AMZN</td>\n",
       "      <td>Amazon.com Inc</td>\n",
       "      <td>July 30, 2025 at 4 PM EDT</td>\n",
       "      <td>-</td>\n",
       "      <td>-</td>\n",
       "      <td>-</td>\n",
       "    </tr>\n",
       "    <tr>\n",
       "      <th>4</th>\n",
       "      <td>AMZN</td>\n",
       "      <td>Amazon.com, Inc.</td>\n",
       "      <td>May 1, 2025 at 4 PM EDT</td>\n",
       "      <td>1.36</td>\n",
       "      <td>1.59</td>\n",
       "      <td>16.74</td>\n",
       "    </tr>\n",
       "    <tr>\n",
       "      <th>5</th>\n",
       "      <td>AMZN</td>\n",
       "      <td>Amazon.com, Inc.</td>\n",
       "      <td>February 6, 2025 at 4 PM EST</td>\n",
       "      <td>1.49</td>\n",
       "      <td>1.86</td>\n",
       "      <td>24.47</td>\n",
       "    </tr>\n",
       "    <tr>\n",
       "      <th>6</th>\n",
       "      <td>AMZN</td>\n",
       "      <td>Amazon.com, Inc.</td>\n",
       "      <td>October 31, 2024 at 4 PM EDT</td>\n",
       "      <td>1.14</td>\n",
       "      <td>1.43</td>\n",
       "      <td>25.17</td>\n",
       "    </tr>\n",
       "    <tr>\n",
       "      <th>7</th>\n",
       "      <td>AMZN</td>\n",
       "      <td>Amazon.com, Inc.</td>\n",
       "      <td>August 1, 2024 at 4 PM EDT</td>\n",
       "      <td>01.???</td>\n",
       "      <td>1.26</td>\n",
       "      <td>22.58</td>\n",
       "    </tr>\n",
       "    <tr>\n",
       "      <th>8</th>\n",
       "      <td>AMZN</td>\n",
       "      <td>Amazon.com, Inc.</td>\n",
       "      <td>April 30, 2024 at 4 PM EDT</td>\n",
       "      <td>0.83</td>\n",
       "      <td>0.98</td>\n",
       "      <td>17.91</td>\n",
       "    </tr>\n",
       "    <tr>\n",
       "      <th>9</th>\n",
       "      <td>AMZN</td>\n",
       "      <td>Amazon.com, Inc.</td>\n",
       "      <td>February 1, 2024 at 4 PM EST</td>\n",
       "      <td>0.8</td>\n",
       "      <td>1</td>\n",
       "      <td>24.55</td>\n",
       "    </tr>\n",
       "  </tbody>\n",
       "</table>\n",
       "</div>"
      ],
      "text/plain": [
       "  Symbol           Company                 Earnings Date EPS Estimate  \\\n",
       "0   AMZN    Amazon.com Inc    April 29, 2026 at 6 AM EDT            -   \n",
       "1   AMZN    Amazon.com Inc  February 4, 2026 at 4 PM EST            -   \n",
       "2   AMZN    Amazon.com Inc  October 29, 2025 at 6 AM EDT            -   \n",
       "3   AMZN    Amazon.com Inc     July 30, 2025 at 4 PM EDT            -   \n",
       "4   AMZN  Amazon.com, Inc.       May 1, 2025 at 4 PM EDT         1.36   \n",
       "5   AMZN  Amazon.com, Inc.  February 6, 2025 at 4 PM EST         1.49   \n",
       "6   AMZN  Amazon.com, Inc.  October 31, 2024 at 4 PM EDT         1.14   \n",
       "7   AMZN  Amazon.com, Inc.    August 1, 2024 at 4 PM EDT       01.???   \n",
       "8   AMZN  Amazon.com, Inc.    April 30, 2024 at 4 PM EDT         0.83   \n",
       "9   AMZN  Amazon.com, Inc.  February 1, 2024 at 4 PM EST          0.8   \n",
       "\n",
       "  Reported EPS Surprise (%)  \n",
       "0            -            -  \n",
       "1            -            -  \n",
       "2            -            -  \n",
       "3            -            -  \n",
       "4         1.59        16.74  \n",
       "5         1.86        24.47  \n",
       "6         1.43        25.17  \n",
       "7         1.26        22.58  \n",
       "8         0.98        17.91  \n",
       "9            1        24.55  "
      ]
     },
     "execution_count": 39,
     "metadata": {},
     "output_type": "execute_result"
    }
   ],
   "source": [
    "df_amazon.head(10)"
   ]
  },
  {
   "cell_type": "code",
   "execution_count": 40,
   "id": "c9cabea3",
   "metadata": {},
   "outputs": [
    {
     "data": {
      "text/html": [
       "<div>\n",
       "<style scoped>\n",
       "    .dataframe tbody tr th:only-of-type {\n",
       "        vertical-align: middle;\n",
       "    }\n",
       "\n",
       "    .dataframe tbody tr th {\n",
       "        vertical-align: top;\n",
       "    }\n",
       "\n",
       "    .dataframe thead th {\n",
       "        text-align: right;\n",
       "    }\n",
       "</style>\n",
       "<table border=\"1\" class=\"dataframe\">\n",
       "  <thead>\n",
       "    <tr style=\"text-align: right;\">\n",
       "      <th></th>\n",
       "      <th>Symbol</th>\n",
       "      <th>Company</th>\n",
       "      <th>Earnings Date</th>\n",
       "      <th>EPS Estimate</th>\n",
       "      <th>Reported EPS</th>\n",
       "      <th>Surprise (%)</th>\n",
       "    </tr>\n",
       "  </thead>\n",
       "  <tbody>\n",
       "    <tr>\n",
       "      <th>40</th>\n",
       "      <td>AMZN</td>\n",
       "      <td>Amazon.com, Inc.</td>\n",
       "      <td>April 28, 2016 at 4 PM EDT</td>\n",
       "      <td>0.03</td>\n",
       "      <td>0.05</td>\n",
       "      <td>81.42</td>\n",
       "    </tr>\n",
       "    <tr>\n",
       "      <th>41</th>\n",
       "      <td>AMZN</td>\n",
       "      <td>Amazon.com, Inc.</td>\n",
       "      <td>January 28, 2016 at 4 PM EST</td>\n",
       "      <td>0.08</td>\n",
       "      <td>0.05</td>\n",
       "      <td>-36.36</td>\n",
       "    </tr>\n",
       "    <tr>\n",
       "      <th>42</th>\n",
       "      <td>AMZN</td>\n",
       "      <td>Amazon.com, Inc.</td>\n",
       "      <td>October 22, 2015 at 4 PM EDT</td>\n",
       "      <td>-0.01</td>\n",
       "      <td>0.01</td>\n",
       "      <td>225.37</td>\n",
       "    </tr>\n",
       "    <tr>\n",
       "      <th>43</th>\n",
       "      <td>AMZN</td>\n",
       "      <td>Amazon.com, Inc.</td>\n",
       "      <td>July 23, 2015 at 4 PM EDT</td>\n",
       "      <td>-0.01</td>\n",
       "      <td>0.01</td>\n",
       "      <td>237.28</td>\n",
       "    </tr>\n",
       "    <tr>\n",
       "      <th>44</th>\n",
       "      <td>AMZN</td>\n",
       "      <td>Amazon.com, Inc.</td>\n",
       "      <td>April 23, 2015 at 4 PM EDT</td>\n",
       "      <td>-0.01</td>\n",
       "      <td>-0.01</td>\n",
       "      <td>1.96</td>\n",
       "    </tr>\n",
       "    <tr>\n",
       "      <th>45</th>\n",
       "      <td>AMZN</td>\n",
       "      <td>Amazon.com, Inc.</td>\n",
       "      <td>January 29, 2015 at 4 PM EST</td>\n",
       "      <td>0.01</td>\n",
       "      <td>0.02</td>\n",
       "      <td>168.18</td>\n",
       "    </tr>\n",
       "    <tr>\n",
       "      <th>46</th>\n",
       "      <td>AMZN</td>\n",
       "      <td>Amazon.com, Inc.</td>\n",
       "      <td>October 23, 2014 at 4 PM EDT</td>\n",
       "      <td>-0.04</td>\n",
       "      <td>-0.05</td>\n",
       "      <td>-29.25</td>\n",
       "    </tr>\n",
       "    <tr>\n",
       "      <th>47</th>\n",
       "      <td>AMZN</td>\n",
       "      <td>Amazon.com, Inc.</td>\n",
       "      <td>July 24, 2014 at 12 AM EDT</td>\n",
       "      <td>-0.01</td>\n",
       "      <td>-0.01</td>\n",
       "      <td>-85.44</td>\n",
       "    </tr>\n",
       "    <tr>\n",
       "      <th>48</th>\n",
       "      <td>AMZN</td>\n",
       "      <td>Amazon.com, Inc.</td>\n",
       "      <td>April 24, 2014 at 12 AM EDT</td>\n",
       "      <td>0.01</td>\n",
       "      <td>0.01</td>\n",
       "      <td>0.88</td>\n",
       "    </tr>\n",
       "    <tr>\n",
       "      <th>49</th>\n",
       "      <td>AMZN</td>\n",
       "      <td>Amazon.com, Inc.</td>\n",
       "      <td>January 30, 2014 at 12 AM EST</td>\n",
       "      <td>0.03</td>\n",
       "      <td>0.03</td>\n",
       "      <td>-22.94</td>\n",
       "    </tr>\n",
       "    <tr>\n",
       "      <th>50</th>\n",
       "      <td>AMZN</td>\n",
       "      <td>Amazon.com, Inc.</td>\n",
       "      <td>October 24, 2013 at 12 AM EDT</td>\n",
       "      <td>-</td>\n",
       "      <td>-</td>\n",
       "      <td>-2.27</td>\n",
       "    </tr>\n",
       "    <tr>\n",
       "      <th>51</th>\n",
       "      <td>AMZN</td>\n",
       "      <td>Amazon.com, Inc.</td>\n",
       "      <td>July 25, 2013 at 12 AM EDT</td>\n",
       "      <td>-</td>\n",
       "      <td>-</td>\n",
       "      <td>-137.31</td>\n",
       "    </tr>\n",
       "    <tr>\n",
       "      <th>52</th>\n",
       "      <td>AMZN</td>\n",
       "      <td>Amazon.com, Inc.</td>\n",
       "      <td>April 25, 2013 at 12 AM EDT</td>\n",
       "      <td>-</td>\n",
       "      <td>0.01</td>\n",
       "      <td>130.77</td>\n",
       "    </tr>\n",
       "    <tr>\n",
       "      <th>53</th>\n",
       "      <td>AMZN</td>\n",
       "      <td>Amazon.com, Inc.</td>\n",
       "      <td>January 29, 2013 at 12 AM EST</td>\n",
       "      <td>0.01</td>\n",
       "      <td>0.01</td>\n",
       "      <td>-24.62</td>\n",
       "    </tr>\n",
       "    <tr>\n",
       "      <th>54</th>\n",
       "      <td>AMZN</td>\n",
       "      <td>Amazon.com, Inc.</td>\n",
       "      <td>October 25, 2012 at 12 AM EDT</td>\n",
       "      <td>-</td>\n",
       "      <td>-0.01</td>\n",
       "      <td>-191.14</td>\n",
       "    </tr>\n",
       "    <tr>\n",
       "      <th>55</th>\n",
       "      <td>AMZN</td>\n",
       "      <td>Amazon.com, Inc.</td>\n",
       "      <td>July 26, 2012 at 12 AM EDT</td>\n",
       "      <td>-</td>\n",
       "      <td>0.01</td>\n",
       "      <td>555.74</td>\n",
       "    </tr>\n",
       "    <tr>\n",
       "      <th>56</th>\n",
       "      <td>AMZN</td>\n",
       "      <td>Amazon.com, Inc.</td>\n",
       "      <td>April 26, 2012 at 12 AM EDT</td>\n",
       "      <td>-</td>\n",
       "      <td>0.01</td>\n",
       "      <td>293.26</td>\n",
       "    </tr>\n",
       "    <tr>\n",
       "      <th>57</th>\n",
       "      <td>AMZN</td>\n",
       "      <td>Amazon.com, Inc.</td>\n",
       "      <td>January 31, 2012 at 12 AM EST</td>\n",
       "      <td>0.01</td>\n",
       "      <td>0.02</td>\n",
       "      <td>127</td>\n",
       "    </tr>\n",
       "    <tr>\n",
       "      <th>58</th>\n",
       "      <td>AMZN</td>\n",
       "      <td>Amazon.com, Inc.</td>\n",
       "      <td>October 25, 2011 at 12 AM EDT</td>\n",
       "      <td>0.01</td>\n",
       "      <td>0.01</td>\n",
       "      <td>-42.67</td>\n",
       "    </tr>\n",
       "    <tr>\n",
       "      <th>59</th>\n",
       "      <td>AMZN</td>\n",
       "      <td>Amazon.com, Inc.</td>\n",
       "      <td>July 26, 2011 at 12 AM EDT</td>\n",
       "      <td>0.02</td>\n",
       "      <td>0.02</td>\n",
       "      <td>17.28</td>\n",
       "    </tr>\n",
       "    <tr>\n",
       "      <th>60</th>\n",
       "      <td>AMZN</td>\n",
       "      <td>Amazon.com, Inc.</td>\n",
       "      <td>April 26, 2011 at 12 AM EDT</td>\n",
       "      <td>0.03</td>\n",
       "      <td>0.02</td>\n",
       "      <td>-27.32</td>\n",
       "    </tr>\n",
       "  </tbody>\n",
       "</table>\n",
       "</div>"
      ],
      "text/plain": [
       "   Symbol           Company                  Earnings Date EPS Estimate  \\\n",
       "40   AMZN  Amazon.com, Inc.     April 28, 2016 at 4 PM EDT         0.03   \n",
       "41   AMZN  Amazon.com, Inc.   January 28, 2016 at 4 PM EST         0.08   \n",
       "42   AMZN  Amazon.com, Inc.   October 22, 2015 at 4 PM EDT        -0.01   \n",
       "43   AMZN  Amazon.com, Inc.      July 23, 2015 at 4 PM EDT        -0.01   \n",
       "44   AMZN  Amazon.com, Inc.     April 23, 2015 at 4 PM EDT        -0.01   \n",
       "45   AMZN  Amazon.com, Inc.   January 29, 2015 at 4 PM EST         0.01   \n",
       "46   AMZN  Amazon.com, Inc.   October 23, 2014 at 4 PM EDT        -0.04   \n",
       "47   AMZN  Amazon.com, Inc.     July 24, 2014 at 12 AM EDT        -0.01   \n",
       "48   AMZN  Amazon.com, Inc.    April 24, 2014 at 12 AM EDT         0.01   \n",
       "49   AMZN  Amazon.com, Inc.  January 30, 2014 at 12 AM EST         0.03   \n",
       "50   AMZN  Amazon.com, Inc.  October 24, 2013 at 12 AM EDT            -   \n",
       "51   AMZN  Amazon.com, Inc.     July 25, 2013 at 12 AM EDT            -   \n",
       "52   AMZN  Amazon.com, Inc.    April 25, 2013 at 12 AM EDT            -   \n",
       "53   AMZN  Amazon.com, Inc.  January 29, 2013 at 12 AM EST         0.01   \n",
       "54   AMZN  Amazon.com, Inc.  October 25, 2012 at 12 AM EDT            -   \n",
       "55   AMZN  Amazon.com, Inc.     July 26, 2012 at 12 AM EDT            -   \n",
       "56   AMZN  Amazon.com, Inc.    April 26, 2012 at 12 AM EDT            -   \n",
       "57   AMZN  Amazon.com, Inc.  January 31, 2012 at 12 AM EST         0.01   \n",
       "58   AMZN  Amazon.com, Inc.  October 25, 2011 at 12 AM EDT         0.01   \n",
       "59   AMZN  Amazon.com, Inc.     July 26, 2011 at 12 AM EDT         0.02   \n",
       "60   AMZN  Amazon.com, Inc.    April 26, 2011 at 12 AM EDT         0.03   \n",
       "\n",
       "   Reported EPS Surprise (%)  \n",
       "40         0.05        81.42  \n",
       "41         0.05       -36.36  \n",
       "42         0.01       225.37  \n",
       "43         0.01       237.28  \n",
       "44        -0.01         1.96  \n",
       "45         0.02       168.18  \n",
       "46        -0.05       -29.25  \n",
       "47        -0.01       -85.44  \n",
       "48         0.01         0.88  \n",
       "49         0.03       -22.94  \n",
       "50            -        -2.27  \n",
       "51            -      -137.31  \n",
       "52         0.01       130.77  \n",
       "53         0.01       -24.62  \n",
       "54        -0.01      -191.14  \n",
       "55         0.01       555.74  \n",
       "56         0.01       293.26  \n",
       "57         0.02          127  \n",
       "58         0.01       -42.67  \n",
       "59         0.02        17.28  \n",
       "60         0.02       -27.32  "
      ]
     },
     "execution_count": 40,
     "metadata": {},
     "output_type": "execute_result"
    }
   ],
   "source": [
    "df_amazon.loc[40:60]"
   ]
  },
  {
   "cell_type": "code",
   "execution_count": 41,
   "id": "10ae8f5b",
   "metadata": {},
   "outputs": [],
   "source": [
    "df_amazon['EPS Estimate'] = np.where(df_amazon['EPS Estimate']=='01.???', '1.03', df_amazon['EPS Estimate'])"
   ]
  },
  {
   "cell_type": "code",
   "execution_count": 42,
   "id": "5cd51b22",
   "metadata": {},
   "outputs": [],
   "source": [
    "for c in ['EPS Estimate', 'Reported EPS', 'Surprise (%)']:\n",
    "    df_amazon[c] = df_amazon[c].replace(\"-\", None)\n",
    "    df_amazon[c] = df_amazon[c].astype(float)"
   ]
  },
  {
   "cell_type": "code",
   "execution_count": 43,
   "id": "1039634c",
   "metadata": {},
   "outputs": [],
   "source": [
    "df_amazon['Clean Earnings Date'] = df_amazon[\"Earnings Date\"].str.extract(r\"^(.*? \\d{4})\")"
   ]
  },
  {
   "cell_type": "code",
   "execution_count": 44,
   "id": "daebd2ef",
   "metadata": {},
   "outputs": [],
   "source": [
    "df_amazon['is_positive_surprise'] = np.where((df_amazon['Reported EPS'] > df_amazon['EPS Estimate']) |\n",
    "                                             (df_amazon['Surprise (%)'] >0), 1, 0)"
   ]
  },
  {
   "cell_type": "code",
   "execution_count": 45,
   "id": "f4258e83",
   "metadata": {},
   "outputs": [],
   "source": [
    "df_amazon[\"Date\"] = pd.to_datetime(df_amazon[\"Clean Earnings Date\"])"
   ]
  },
  {
   "cell_type": "code",
   "execution_count": 46,
   "id": "12236597",
   "metadata": {},
   "outputs": [
    {
     "data": {
      "text/plain": [
       "count                              116\n",
       "mean     2011-12-11 09:55:51.724137984\n",
       "min                1997-07-10 00:00:00\n",
       "25%                2004-09-28 06:00:00\n",
       "50%                2011-12-13 00:00:00\n",
       "75%                2019-02-21 00:00:00\n",
       "max                2026-04-29 00:00:00\n",
       "Name: Date, dtype: object"
      ]
     },
     "execution_count": 46,
     "metadata": {},
     "output_type": "execute_result"
    }
   ],
   "source": [
    "df_amazon[\"Date\"].describe()"
   ]
  },
  {
   "cell_type": "code",
   "execution_count": 47,
   "id": "7e70546b",
   "metadata": {},
   "outputs": [
    {
     "name": "stderr",
     "output_type": "stream",
     "text": [
      "[*********************100%***********************]  1 of 1 completed\n"
     ]
    }
   ],
   "source": [
    "ticker = \"AMZN\"\n",
    "start_date = \"1997-07-10\"\n",
    "end_date = \"2026-04-29\"\n",
    "\n",
    "# Download the data\n",
    "amz_data = yf.download(ticker, start=start_date, end=end_date)"
   ]
  },
  {
   "cell_type": "code",
   "execution_count": 48,
   "id": "3fa641be",
   "metadata": {},
   "outputs": [],
   "source": [
    "df_close_amz  = pd.DataFrame({'Close': amz_data['Close'][ticker]})"
   ]
  },
  {
   "cell_type": "code",
   "execution_count": 49,
   "id": "e796eb8a",
   "metadata": {},
   "outputs": [],
   "source": [
    "df_close_amz['Close_Day3'] = df_close_amz['Close'].shift(-2)\n",
    "df_close_amz['2day_percentage'] = (df_close_amz['Close_Day3']/df_close_amz['Close']) - 1"
   ]
  },
  {
   "cell_type": "code",
   "execution_count": 50,
   "id": "453fa3e2",
   "metadata": {},
   "outputs": [
    {
     "data": {
      "text/html": [
       "<div>\n",
       "<style scoped>\n",
       "    .dataframe tbody tr th:only-of-type {\n",
       "        vertical-align: middle;\n",
       "    }\n",
       "\n",
       "    .dataframe tbody tr th {\n",
       "        vertical-align: top;\n",
       "    }\n",
       "\n",
       "    .dataframe thead th {\n",
       "        text-align: right;\n",
       "    }\n",
       "</style>\n",
       "<table border=\"1\" class=\"dataframe\">\n",
       "  <thead>\n",
       "    <tr style=\"text-align: right;\">\n",
       "      <th></th>\n",
       "      <th>Symbol</th>\n",
       "      <th>Company</th>\n",
       "      <th>Earnings Date</th>\n",
       "      <th>EPS Estimate</th>\n",
       "      <th>Reported EPS</th>\n",
       "      <th>Surprise (%)</th>\n",
       "      <th>Clean Earnings Date</th>\n",
       "      <th>is_positive_surprise</th>\n",
       "      <th>Date</th>\n",
       "    </tr>\n",
       "  </thead>\n",
       "  <tbody>\n",
       "    <tr>\n",
       "      <th>115</th>\n",
       "      <td>AMZN</td>\n",
       "      <td>Amazon.com, Inc.</td>\n",
       "      <td>July 10, 1997 at 12 AM EDT</td>\n",
       "      <td>NaN</td>\n",
       "      <td>NaN</td>\n",
       "      <td>13.33</td>\n",
       "      <td>July 10, 1997</td>\n",
       "      <td>1</td>\n",
       "      <td>1997-07-10</td>\n",
       "    </tr>\n",
       "    <tr>\n",
       "      <th>114</th>\n",
       "      <td>AMZN</td>\n",
       "      <td>Amazon.com, Inc.</td>\n",
       "      <td>October 27, 1997 at 12 AM EST</td>\n",
       "      <td>NaN</td>\n",
       "      <td>NaN</td>\n",
       "      <td>13.29</td>\n",
       "      <td>October 27, 1997</td>\n",
       "      <td>1</td>\n",
       "      <td>1997-10-27</td>\n",
       "    </tr>\n",
       "    <tr>\n",
       "      <th>113</th>\n",
       "      <td>AMZN</td>\n",
       "      <td>Amazon.com, Inc.</td>\n",
       "      <td>January 22, 1998 at 12 AM EST</td>\n",
       "      <td>NaN</td>\n",
       "      <td>NaN</td>\n",
       "      <td>11.41</td>\n",
       "      <td>January 22, 1998</td>\n",
       "      <td>1</td>\n",
       "      <td>1998-01-22</td>\n",
       "    </tr>\n",
       "    <tr>\n",
       "      <th>112</th>\n",
       "      <td>AMZN</td>\n",
       "      <td>Amazon.com, Inc.</td>\n",
       "      <td>April 27, 1998 at 12 AM EDT</td>\n",
       "      <td>NaN</td>\n",
       "      <td>NaN</td>\n",
       "      <td>13.92</td>\n",
       "      <td>April 27, 1998</td>\n",
       "      <td>1</td>\n",
       "      <td>1998-04-27</td>\n",
       "    </tr>\n",
       "    <tr>\n",
       "      <th>111</th>\n",
       "      <td>AMZN</td>\n",
       "      <td>Amazon.com, Inc.</td>\n",
       "      <td>July 22, 1998 at 12 AM EDT</td>\n",
       "      <td>NaN</td>\n",
       "      <td>NaN</td>\n",
       "      <td>1.34</td>\n",
       "      <td>July 22, 1998</td>\n",
       "      <td>1</td>\n",
       "      <td>1998-07-22</td>\n",
       "    </tr>\n",
       "    <tr>\n",
       "      <th>110</th>\n",
       "      <td>AMZN</td>\n",
       "      <td>Amazon.com, Inc.</td>\n",
       "      <td>October 28, 1998 at 12 AM EST</td>\n",
       "      <td>NaN</td>\n",
       "      <td>NaN</td>\n",
       "      <td>15.53</td>\n",
       "      <td>October 28, 1998</td>\n",
       "      <td>1</td>\n",
       "      <td>1998-10-28</td>\n",
       "    </tr>\n",
       "    <tr>\n",
       "      <th>109</th>\n",
       "      <td>AMZN</td>\n",
       "      <td>Amazon.com, Inc.</td>\n",
       "      <td>January 26, 1999 at 12 AM EST</td>\n",
       "      <td>NaN</td>\n",
       "      <td>NaN</td>\n",
       "      <td>22.22</td>\n",
       "      <td>January 26, 1999</td>\n",
       "      <td>1</td>\n",
       "      <td>1999-01-26</td>\n",
       "    </tr>\n",
       "    <tr>\n",
       "      <th>108</th>\n",
       "      <td>AMZN</td>\n",
       "      <td>Amazon.com, Inc.</td>\n",
       "      <td>April 28, 1999 at 12 AM EDT</td>\n",
       "      <td>-0.01</td>\n",
       "      <td>-0.01</td>\n",
       "      <td>19.92</td>\n",
       "      <td>April 28, 1999</td>\n",
       "      <td>1</td>\n",
       "      <td>1999-04-28</td>\n",
       "    </tr>\n",
       "    <tr>\n",
       "      <th>107</th>\n",
       "      <td>AMZN</td>\n",
       "      <td>Amazon.com, Inc.</td>\n",
       "      <td>July 21, 1999 at 12 AM EDT</td>\n",
       "      <td>-0.01</td>\n",
       "      <td>-0.01</td>\n",
       "      <td>0.47</td>\n",
       "      <td>July 21, 1999</td>\n",
       "      <td>1</td>\n",
       "      <td>1999-07-21</td>\n",
       "    </tr>\n",
       "    <tr>\n",
       "      <th>106</th>\n",
       "      <td>AMZN</td>\n",
       "      <td>Amazon.com, Inc.</td>\n",
       "      <td>October 27, 1999 at 12 AM EDT</td>\n",
       "      <td>-0.01</td>\n",
       "      <td>-0.01</td>\n",
       "      <td>7.54</td>\n",
       "      <td>October 27, 1999</td>\n",
       "      <td>1</td>\n",
       "      <td>1999-10-27</td>\n",
       "    </tr>\n",
       "  </tbody>\n",
       "</table>\n",
       "</div>"
      ],
      "text/plain": [
       "    Symbol           Company                  Earnings Date  EPS Estimate  \\\n",
       "115   AMZN  Amazon.com, Inc.     July 10, 1997 at 12 AM EDT           NaN   \n",
       "114   AMZN  Amazon.com, Inc.  October 27, 1997 at 12 AM EST           NaN   \n",
       "113   AMZN  Amazon.com, Inc.  January 22, 1998 at 12 AM EST           NaN   \n",
       "112   AMZN  Amazon.com, Inc.    April 27, 1998 at 12 AM EDT           NaN   \n",
       "111   AMZN  Amazon.com, Inc.     July 22, 1998 at 12 AM EDT           NaN   \n",
       "110   AMZN  Amazon.com, Inc.  October 28, 1998 at 12 AM EST           NaN   \n",
       "109   AMZN  Amazon.com, Inc.  January 26, 1999 at 12 AM EST           NaN   \n",
       "108   AMZN  Amazon.com, Inc.    April 28, 1999 at 12 AM EDT         -0.01   \n",
       "107   AMZN  Amazon.com, Inc.     July 21, 1999 at 12 AM EDT         -0.01   \n",
       "106   AMZN  Amazon.com, Inc.  October 27, 1999 at 12 AM EDT         -0.01   \n",
       "\n",
       "     Reported EPS  Surprise (%) Clean Earnings Date  is_positive_surprise  \\\n",
       "115           NaN         13.33       July 10, 1997                     1   \n",
       "114           NaN         13.29    October 27, 1997                     1   \n",
       "113           NaN         11.41    January 22, 1998                     1   \n",
       "112           NaN         13.92      April 27, 1998                     1   \n",
       "111           NaN          1.34       July 22, 1998                     1   \n",
       "110           NaN         15.53    October 28, 1998                     1   \n",
       "109           NaN         22.22    January 26, 1999                     1   \n",
       "108         -0.01         19.92      April 28, 1999                     1   \n",
       "107         -0.01          0.47       July 21, 1999                     1   \n",
       "106         -0.01          7.54    October 27, 1999                     1   \n",
       "\n",
       "          Date  \n",
       "115 1997-07-10  \n",
       "114 1997-10-27  \n",
       "113 1998-01-22  \n",
       "112 1998-04-27  \n",
       "111 1998-07-22  \n",
       "110 1998-10-28  \n",
       "109 1999-01-26  \n",
       "108 1999-04-28  \n",
       "107 1999-07-21  \n",
       "106 1999-10-27  "
      ]
     },
     "execution_count": 50,
     "metadata": {},
     "output_type": "execute_result"
    }
   ],
   "source": [
    "df_amazon.sort_values('Date').head(10)"
   ]
  },
  {
   "cell_type": "code",
   "execution_count": 51,
   "id": "7bc959e0",
   "metadata": {},
   "outputs": [
    {
     "data": {
      "text/html": [
       "<div>\n",
       "<style scoped>\n",
       "    .dataframe tbody tr th:only-of-type {\n",
       "        vertical-align: middle;\n",
       "    }\n",
       "\n",
       "    .dataframe tbody tr th {\n",
       "        vertical-align: top;\n",
       "    }\n",
       "\n",
       "    .dataframe thead th {\n",
       "        text-align: right;\n",
       "    }\n",
       "</style>\n",
       "<table border=\"1\" class=\"dataframe\">\n",
       "  <thead>\n",
       "    <tr style=\"text-align: right;\">\n",
       "      <th></th>\n",
       "      <th>is_positive_surprise</th>\n",
       "      <th>Reported EPS</th>\n",
       "      <th>EPS Estimate</th>\n",
       "      <th>Surprise (%)</th>\n",
       "    </tr>\n",
       "    <tr>\n",
       "      <th>Date</th>\n",
       "      <th></th>\n",
       "      <th></th>\n",
       "      <th></th>\n",
       "      <th></th>\n",
       "    </tr>\n",
       "  </thead>\n",
       "  <tbody>\n",
       "    <tr>\n",
       "      <th>2026-04-29</th>\n",
       "      <td>0</td>\n",
       "      <td>NaN</td>\n",
       "      <td>NaN</td>\n",
       "      <td>NaN</td>\n",
       "    </tr>\n",
       "    <tr>\n",
       "      <th>2026-02-04</th>\n",
       "      <td>0</td>\n",
       "      <td>NaN</td>\n",
       "      <td>NaN</td>\n",
       "      <td>NaN</td>\n",
       "    </tr>\n",
       "    <tr>\n",
       "      <th>2025-10-29</th>\n",
       "      <td>0</td>\n",
       "      <td>NaN</td>\n",
       "      <td>NaN</td>\n",
       "      <td>NaN</td>\n",
       "    </tr>\n",
       "    <tr>\n",
       "      <th>2025-07-30</th>\n",
       "      <td>0</td>\n",
       "      <td>NaN</td>\n",
       "      <td>NaN</td>\n",
       "      <td>NaN</td>\n",
       "    </tr>\n",
       "    <tr>\n",
       "      <th>2025-05-01</th>\n",
       "      <td>1</td>\n",
       "      <td>1.59</td>\n",
       "      <td>1.36</td>\n",
       "      <td>16.74</td>\n",
       "    </tr>\n",
       "  </tbody>\n",
       "</table>\n",
       "</div>"
      ],
      "text/plain": [
       "            is_positive_surprise  Reported EPS  EPS Estimate  Surprise (%)\n",
       "Date                                                                      \n",
       "2026-04-29                     0           NaN           NaN           NaN\n",
       "2026-02-04                     0           NaN           NaN           NaN\n",
       "2025-10-29                     0           NaN           NaN           NaN\n",
       "2025-07-30                     0           NaN           NaN           NaN\n",
       "2025-05-01                     1          1.59          1.36         16.74"
      ]
     },
     "execution_count": 51,
     "metadata": {},
     "output_type": "execute_result"
    }
   ],
   "source": [
    "df_positive_surprise = df_amazon.set_index(\"Date\")[['is_positive_surprise', 'Reported EPS', 'EPS Estimate', 'Surprise (%)']]\n",
    "df_positive_surprise.head()"
   ]
  },
  {
   "cell_type": "code",
   "execution_count": 52,
   "id": "fb339f6a",
   "metadata": {},
   "outputs": [],
   "source": [
    "df_merged = df_close_amz.merge(df_positive_surprise, left_index=True, right_index=True, how='right')"
   ]
  },
  {
   "cell_type": "code",
   "execution_count": 56,
   "id": "d6ae8c6e",
   "metadata": {},
   "outputs": [
    {
     "data": {
      "text/plain": [
       "np.float64(0.002672266474036067)"
      ]
     },
     "execution_count": 56,
     "metadata": {},
     "output_type": "execute_result"
    }
   ],
   "source": [
    "df_merged.query(\"is_positive_surprise==1\")['2day_percentage'].median()"
   ]
  },
  {
   "cell_type": "code",
   "execution_count": 282,
   "id": "c085c18d",
   "metadata": {},
   "outputs": [
    {
     "data": {
      "text/plain": [
       "np.float64(0.0016375198550677705)"
      ]
     },
     "execution_count": 282,
     "metadata": {},
     "output_type": "execute_result"
    }
   ],
   "source": [
    "df_merged['2day_percentage'].median()"
   ]
  },
  {
   "cell_type": "code",
   "execution_count": null,
   "id": "6cad06ed",
   "metadata": {},
   "outputs": [],
   "source": []
  }
 ],
 "metadata": {
  "kernelspec": {
   "display_name": "markets",
   "language": "python",
   "name": "python3"
  },
  "language_info": {
   "codemirror_mode": {
    "name": "ipython",
    "version": 3
   },
   "file_extension": ".py",
   "mimetype": "text/x-python",
   "name": "python",
   "nbconvert_exporter": "python",
   "pygments_lexer": "ipython3",
   "version": "3.10.16"
  }
 },
 "nbformat": 4,
 "nbformat_minor": 5
}
