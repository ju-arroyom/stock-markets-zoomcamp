{
 "cells": [
  {
   "cell_type": "code",
   "execution_count": 1,
   "id": "6742c7c5",
   "metadata": {},
   "outputs": [],
   "source": [
    "import pandas as pd\n",
    "import numpy as np\n",
    "pd.set_option('display.max_rows', 100)"
   ]
  },
  {
   "cell_type": "markdown",
   "id": "d44d45f0",
   "metadata": {},
   "source": [
    "# Question 1"
   ]
  },
  {
   "cell_type": "code",
   "execution_count": 2,
   "id": "66e9f9ab",
   "metadata": {},
   "outputs": [],
   "source": [
    "url = \"https://stockanalysis.com/ipos/withdrawn/\"\n",
    "df = pd.read_html(url)[0]"
   ]
  },
  {
   "cell_type": "code",
   "execution_count": 3,
   "id": "37a005f1",
   "metadata": {},
   "outputs": [],
   "source": [
    "def create_company_class(df):\n",
    "    df['company_class_helper'] = df['Company Name'].str.lower()\n",
    "    # Conditions\n",
    "    cond = [df['company_class_helper'].str.contains(\"acquisition|corporation|corp.\"),\n",
    "            df['company_class_helper'].str.contains(\"inc.|incorporated\"),\n",
    "            df['company_class_helper'].str.contains(\"group\"),\n",
    "            df['company_class_helper'].str.contains(\"ltd.?|limited\"),\n",
    "            df['company_class_helper'].str.contains(\"holdings\"),]\n",
    "    choices = [\"Acq.Corp\", \"Inc\", \"Group\", \"Limited\", \"Holdings\"]\n",
    "    df[\"Company Class\"] = np.select(cond, choices, default=\"Other\")\n",
    "    # Drop helper column\n",
    "    df.drop('company_class_helper', axis=1, inplace=True)\n",
    "    return df"
   ]
  },
  {
   "cell_type": "code",
   "execution_count": null,
   "id": "3aae0984",
   "metadata": {},
   "outputs": [],
   "source": [
    "def create_avg_price(df):\n",
    "    pass"
   ]
  },
  {
   "cell_type": "code",
   "execution_count": 5,
   "id": "0c8048cf",
   "metadata": {},
   "outputs": [],
   "source": [
    "df = create_company_class(df)"
   ]
  },
  {
   "cell_type": "code",
   "execution_count": null,
   "id": "722d425e",
   "metadata": {},
   "outputs": [],
   "source": []
  }
 ],
 "metadata": {
  "kernelspec": {
   "display_name": "markets",
   "language": "python",
   "name": "python3"
  },
  "language_info": {
   "codemirror_mode": {
    "name": "ipython",
    "version": 3
   },
   "file_extension": ".py",
   "mimetype": "text/x-python",
   "name": "python",
   "nbconvert_exporter": "python",
   "pygments_lexer": "ipython3",
   "version": "3.10.16"
  }
 },
 "nbformat": 4,
 "nbformat_minor": 5
}
