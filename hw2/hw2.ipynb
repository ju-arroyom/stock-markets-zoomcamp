{
 "cells": [
  {
   "cell_type": "code",
   "execution_count": 116,
   "id": "6742c7c5",
   "metadata": {},
   "outputs": [],
   "source": [
    "import time\n",
    "import pandas as pd\n",
    "import numpy as np\n",
    "from datetime import date\n",
    "import yfinance as yf\n",
    "\n",
    "pd.set_option('display.max_rows', 100)\n",
    "pd.options.display.float_format = '{:,.2f}'.format "
   ]
  },
  {
   "cell_type": "markdown",
   "id": "d44d45f0",
   "metadata": {},
   "source": [
    "# Question 1"
   ]
  },
  {
   "cell_type": "code",
   "execution_count": 37,
   "id": "66e9f9ab",
   "metadata": {},
   "outputs": [
    {
     "data": {
      "text/html": [
       "<div>\n",
       "<style scoped>\n",
       "    .dataframe tbody tr th:only-of-type {\n",
       "        vertical-align: middle;\n",
       "    }\n",
       "\n",
       "    .dataframe tbody tr th {\n",
       "        vertical-align: top;\n",
       "    }\n",
       "\n",
       "    .dataframe thead th {\n",
       "        text-align: right;\n",
       "    }\n",
       "</style>\n",
       "<table border=\"1\" class=\"dataframe\">\n",
       "  <thead>\n",
       "    <tr style=\"text-align: right;\">\n",
       "      <th></th>\n",
       "      <th>Symbol</th>\n",
       "      <th>Company Name</th>\n",
       "      <th>Price Range</th>\n",
       "      <th>Shares Offered</th>\n",
       "    </tr>\n",
       "  </thead>\n",
       "  <tbody>\n",
       "    <tr>\n",
       "      <th>0</th>\n",
       "      <td>ODTX</td>\n",
       "      <td>Odyssey Therapeutics, Inc.</td>\n",
       "      <td>-</td>\n",
       "      <td>-</td>\n",
       "    </tr>\n",
       "    <tr>\n",
       "      <th>1</th>\n",
       "      <td>UNFL</td>\n",
       "      <td>Unifoil Holdings, Inc.</td>\n",
       "      <td>$3.00 - $4.00</td>\n",
       "      <td>2000000</td>\n",
       "    </tr>\n",
       "    <tr>\n",
       "      <th>2</th>\n",
       "      <td>AURN</td>\n",
       "      <td>Aurion Biotech, Inc.</td>\n",
       "      <td>-</td>\n",
       "      <td>-</td>\n",
       "    </tr>\n",
       "    <tr>\n",
       "      <th>3</th>\n",
       "      <td>ROTR</td>\n",
       "      <td>PHI Group, Inc.</td>\n",
       "      <td>-</td>\n",
       "      <td>-</td>\n",
       "    </tr>\n",
       "    <tr>\n",
       "      <th>4</th>\n",
       "      <td>ONE</td>\n",
       "      <td>One Power Company</td>\n",
       "      <td>-</td>\n",
       "      <td>-</td>\n",
       "    </tr>\n",
       "  </tbody>\n",
       "</table>\n",
       "</div>"
      ],
      "text/plain": [
       "  Symbol                Company Name    Price Range Shares Offered\n",
       "0   ODTX  Odyssey Therapeutics, Inc.              -              -\n",
       "1   UNFL      Unifoil Holdings, Inc.  $3.00 - $4.00        2000000\n",
       "2   AURN        Aurion Biotech, Inc.              -              -\n",
       "3   ROTR             PHI Group, Inc.              -              -\n",
       "4    ONE           One Power Company              -              -"
      ]
     },
     "execution_count": 37,
     "metadata": {},
     "output_type": "execute_result"
    }
   ],
   "source": [
    "url = \"https://stockanalysis.com/ipos/withdrawn/\"\n",
    "df = pd.read_html(url)[0]\n",
    "df.head()"
   ]
  },
  {
   "cell_type": "code",
   "execution_count": 38,
   "id": "37a005f1",
   "metadata": {},
   "outputs": [],
   "source": [
    "def create_company_class(df):\n",
    "    df['company_class_helper'] = df['Company Name'].str.lower()\n",
    "    # Conditions\n",
    "    cond = [df['company_class_helper'].str.contains(\"acquisition|corporation|corp.\"),\n",
    "            df['company_class_helper'].str.contains(\"inc.|incorporated\"),\n",
    "            df['company_class_helper'].str.contains(\"group\"),\n",
    "            df['company_class_helper'].str.contains(\"ltd.?|limited\"),\n",
    "            df['company_class_helper'].str.contains(\"holdings\"),]\n",
    "    choices = [\"Acq.Corp\", \"Inc\", \"Group\", \"Limited\", \"Holdings\"]\n",
    "    df[\"Company Class\"] = np.select(cond, choices, default=\"Other\")\n",
    "    # Drop helper column\n",
    "    df.drop('company_class_helper', axis=1, inplace=True)\n",
    "    return df"
   ]
  },
  {
   "cell_type": "code",
   "execution_count": 58,
   "id": "3aae0984",
   "metadata": {},
   "outputs": [],
   "source": [
    "def create_avg_price(data):\n",
    "    df = data.copy()\n",
    "    df['Price Range'] = df['Price Range'].str.split(\"-\")\n",
    "    def compute_mean(row):\n",
    "        try:\n",
    "            num_list = [float(num.replace(\"$\", \"\").strip()) for num in row]\n",
    "            return np.mean(num_list)\n",
    "        except:\n",
    "            return None\n",
    "    df['Avg. Price'] = df['Price Range'].apply(compute_mean)\n",
    "    return df\n"
   ]
  },
  {
   "cell_type": "code",
   "execution_count": 54,
   "id": "0c8048cf",
   "metadata": {},
   "outputs": [],
   "source": [
    "df = create_company_class(df)"
   ]
  },
  {
   "cell_type": "code",
   "execution_count": 59,
   "id": "722d425e",
   "metadata": {},
   "outputs": [],
   "source": [
    "df = create_avg_price(df)"
   ]
  },
  {
   "cell_type": "code",
   "execution_count": 60,
   "id": "9b47f80c",
   "metadata": {},
   "outputs": [
    {
     "data": {
      "text/html": [
       "<div>\n",
       "<style scoped>\n",
       "    .dataframe tbody tr th:only-of-type {\n",
       "        vertical-align: middle;\n",
       "    }\n",
       "\n",
       "    .dataframe tbody tr th {\n",
       "        vertical-align: top;\n",
       "    }\n",
       "\n",
       "    .dataframe thead th {\n",
       "        text-align: right;\n",
       "    }\n",
       "</style>\n",
       "<table border=\"1\" class=\"dataframe\">\n",
       "  <thead>\n",
       "    <tr style=\"text-align: right;\">\n",
       "      <th></th>\n",
       "      <th>Symbol</th>\n",
       "      <th>Company Name</th>\n",
       "      <th>Price Range</th>\n",
       "      <th>Shares Offered</th>\n",
       "      <th>Company Class</th>\n",
       "      <th>Avg. Price</th>\n",
       "    </tr>\n",
       "  </thead>\n",
       "  <tbody>\n",
       "    <tr>\n",
       "      <th>0</th>\n",
       "      <td>ODTX</td>\n",
       "      <td>Odyssey Therapeutics, Inc.</td>\n",
       "      <td>[, ]</td>\n",
       "      <td>-</td>\n",
       "      <td>Inc</td>\n",
       "      <td>NaN</td>\n",
       "    </tr>\n",
       "    <tr>\n",
       "      <th>1</th>\n",
       "      <td>UNFL</td>\n",
       "      <td>Unifoil Holdings, Inc.</td>\n",
       "      <td>[$3.00 ,  $4.00]</td>\n",
       "      <td>2000000</td>\n",
       "      <td>Inc</td>\n",
       "      <td>3.50</td>\n",
       "    </tr>\n",
       "    <tr>\n",
       "      <th>2</th>\n",
       "      <td>AURN</td>\n",
       "      <td>Aurion Biotech, Inc.</td>\n",
       "      <td>[, ]</td>\n",
       "      <td>-</td>\n",
       "      <td>Inc</td>\n",
       "      <td>NaN</td>\n",
       "    </tr>\n",
       "    <tr>\n",
       "      <th>3</th>\n",
       "      <td>ROTR</td>\n",
       "      <td>PHI Group, Inc.</td>\n",
       "      <td>[, ]</td>\n",
       "      <td>-</td>\n",
       "      <td>Inc</td>\n",
       "      <td>NaN</td>\n",
       "    </tr>\n",
       "    <tr>\n",
       "      <th>4</th>\n",
       "      <td>ONE</td>\n",
       "      <td>One Power Company</td>\n",
       "      <td>[, ]</td>\n",
       "      <td>-</td>\n",
       "      <td>Other</td>\n",
       "      <td>NaN</td>\n",
       "    </tr>\n",
       "    <tr>\n",
       "      <th>5</th>\n",
       "      <td>HPOT</td>\n",
       "      <td>The Great Restaurant Development Holdings Limited</td>\n",
       "      <td>[$4.00 ,  $6.00]</td>\n",
       "      <td>1400000</td>\n",
       "      <td>Limited</td>\n",
       "      <td>5.00</td>\n",
       "    </tr>\n",
       "    <tr>\n",
       "      <th>6</th>\n",
       "      <td>CABR</td>\n",
       "      <td>Caring Brands, Inc.</td>\n",
       "      <td>[$4.00]</td>\n",
       "      <td>750000</td>\n",
       "      <td>Inc</td>\n",
       "      <td>4.00</td>\n",
       "    </tr>\n",
       "    <tr>\n",
       "      <th>7</th>\n",
       "      <td>SQVI</td>\n",
       "      <td>Sequoia Vaccines, Inc.</td>\n",
       "      <td>[$8.00 ,  $10.00]</td>\n",
       "      <td>2775000</td>\n",
       "      <td>Inc</td>\n",
       "      <td>9.00</td>\n",
       "    </tr>\n",
       "    <tr>\n",
       "      <th>8</th>\n",
       "      <td>SNI</td>\n",
       "      <td>Shenni Holdings Limited</td>\n",
       "      <td>[$4.00 ,  $6.00]</td>\n",
       "      <td>3000000</td>\n",
       "      <td>Limited</td>\n",
       "      <td>5.00</td>\n",
       "    </tr>\n",
       "    <tr>\n",
       "      <th>9</th>\n",
       "      <td>KMCM</td>\n",
       "      <td>Key Mining Corp.</td>\n",
       "      <td>[$2.25]</td>\n",
       "      <td>4444444</td>\n",
       "      <td>Acq.Corp</td>\n",
       "      <td>2.25</td>\n",
       "    </tr>\n",
       "  </tbody>\n",
       "</table>\n",
       "</div>"
      ],
      "text/plain": [
       "  Symbol                                       Company Name  \\\n",
       "0   ODTX                         Odyssey Therapeutics, Inc.   \n",
       "1   UNFL                             Unifoil Holdings, Inc.   \n",
       "2   AURN                               Aurion Biotech, Inc.   \n",
       "3   ROTR                                    PHI Group, Inc.   \n",
       "4    ONE                                  One Power Company   \n",
       "5   HPOT  The Great Restaurant Development Holdings Limited   \n",
       "6   CABR                                Caring Brands, Inc.   \n",
       "7   SQVI                             Sequoia Vaccines, Inc.   \n",
       "8    SNI                            Shenni Holdings Limited   \n",
       "9   KMCM                                   Key Mining Corp.   \n",
       "\n",
       "         Price Range Shares Offered Company Class  Avg. Price  \n",
       "0               [, ]              -           Inc         NaN  \n",
       "1   [$3.00 ,  $4.00]        2000000           Inc        3.50  \n",
       "2               [, ]              -           Inc         NaN  \n",
       "3               [, ]              -           Inc         NaN  \n",
       "4               [, ]              -         Other         NaN  \n",
       "5   [$4.00 ,  $6.00]        1400000       Limited        5.00  \n",
       "6            [$4.00]         750000           Inc        4.00  \n",
       "7  [$8.00 ,  $10.00]        2775000           Inc        9.00  \n",
       "8   [$4.00 ,  $6.00]        3000000       Limited        5.00  \n",
       "9            [$2.25]        4444444      Acq.Corp        2.25  "
      ]
     },
     "execution_count": 60,
     "metadata": {},
     "output_type": "execute_result"
    }
   ],
   "source": [
    "df.head(10)"
   ]
  },
  {
   "cell_type": "code",
   "execution_count": 65,
   "id": "c4e04b76",
   "metadata": {},
   "outputs": [],
   "source": [
    "df['Shares Offered'] =  pd.to_numeric(df['Shares Offered'], errors='coerce')\n",
    "df['Withdrawn Value'] = df['Avg. Price'] * df['Shares Offered']"
   ]
  },
  {
   "cell_type": "code",
   "execution_count": 67,
   "id": "0216a24f",
   "metadata": {},
   "outputs": [
    {
     "data": {
      "text/plain": [
       "Symbol             100\n",
       "Company Name       100\n",
       "Price Range        100\n",
       "Shares Offered      72\n",
       "Company Class      100\n",
       "Avg. Price          73\n",
       "Withdrawn Value     71\n",
       "dtype: int64"
      ]
     },
     "execution_count": 67,
     "metadata": {},
     "output_type": "execute_result"
    }
   ],
   "source": [
    "df.notnull().sum()"
   ]
  },
  {
   "cell_type": "code",
   "execution_count": 76,
   "id": "265f00e3",
   "metadata": {},
   "outputs": [
    {
     "data": {
      "text/html": [
       "<div>\n",
       "<style scoped>\n",
       "    .dataframe tbody tr th:only-of-type {\n",
       "        vertical-align: middle;\n",
       "    }\n",
       "\n",
       "    .dataframe tbody tr th {\n",
       "        vertical-align: top;\n",
       "    }\n",
       "\n",
       "    .dataframe thead th {\n",
       "        text-align: right;\n",
       "    }\n",
       "</style>\n",
       "<table border=\"1\" class=\"dataframe\">\n",
       "  <thead>\n",
       "    <tr style=\"text-align: right;\">\n",
       "      <th></th>\n",
       "      <th>Company Class</th>\n",
       "      <th>Withdrawn Value</th>\n",
       "    </tr>\n",
       "  </thead>\n",
       "  <tbody>\n",
       "    <tr>\n",
       "      <th>0</th>\n",
       "      <td>Acq.Corp</td>\n",
       "      <td>4,111.85</td>\n",
       "    </tr>\n",
       "    <tr>\n",
       "      <th>2</th>\n",
       "      <td>Inc</td>\n",
       "      <td>2,257.16</td>\n",
       "    </tr>\n",
       "    <tr>\n",
       "      <th>4</th>\n",
       "      <td>Other</td>\n",
       "      <td>752.07</td>\n",
       "    </tr>\n",
       "    <tr>\n",
       "      <th>3</th>\n",
       "      <td>Limited</td>\n",
       "      <td>549.73</td>\n",
       "    </tr>\n",
       "    <tr>\n",
       "      <th>1</th>\n",
       "      <td>Group</td>\n",
       "      <td>33.79</td>\n",
       "    </tr>\n",
       "  </tbody>\n",
       "</table>\n",
       "</div>"
      ],
      "text/plain": [
       "  Company Class  Withdrawn Value\n",
       "0      Acq.Corp         4,111.85\n",
       "2           Inc         2,257.16\n",
       "4         Other           752.07\n",
       "3       Limited           549.73\n",
       "1         Group            33.79"
      ]
     },
     "execution_count": 76,
     "metadata": {},
     "output_type": "execute_result"
    }
   ],
   "source": [
    "agg_df = df.groupby(\"Company Class\", as_index=False)['Withdrawn Value'].sum().sort_values('Withdrawn Value', ascending=False)\n",
    "agg_df['Withdrawn Value'] = agg_df['Withdrawn Value']/1e6\n",
    "agg_df"
   ]
  },
  {
   "cell_type": "markdown",
   "id": "cb7ceeef",
   "metadata": {},
   "source": [
    "# Question 2"
   ]
  },
  {
   "cell_type": "code",
   "execution_count": 77,
   "id": "5e072be9",
   "metadata": {},
   "outputs": [
    {
     "data": {
      "text/html": [
       "<div>\n",
       "<style scoped>\n",
       "    .dataframe tbody tr th:only-of-type {\n",
       "        vertical-align: middle;\n",
       "    }\n",
       "\n",
       "    .dataframe tbody tr th {\n",
       "        vertical-align: top;\n",
       "    }\n",
       "\n",
       "    .dataframe thead th {\n",
       "        text-align: right;\n",
       "    }\n",
       "</style>\n",
       "<table border=\"1\" class=\"dataframe\">\n",
       "  <thead>\n",
       "    <tr style=\"text-align: right;\">\n",
       "      <th></th>\n",
       "      <th>IPO Date</th>\n",
       "      <th>Symbol</th>\n",
       "      <th>Company Name</th>\n",
       "      <th>IPO Price</th>\n",
       "      <th>Current</th>\n",
       "      <th>Return</th>\n",
       "    </tr>\n",
       "  </thead>\n",
       "  <tbody>\n",
       "    <tr>\n",
       "      <th>0</th>\n",
       "      <td>Dec 31, 2024</td>\n",
       "      <td>ONEG</td>\n",
       "      <td>OneConstruction Group Limited</td>\n",
       "      <td>$4.00</td>\n",
       "      <td>$4.15</td>\n",
       "      <td>3.75%</td>\n",
       "    </tr>\n",
       "    <tr>\n",
       "      <th>1</th>\n",
       "      <td>Dec 27, 2024</td>\n",
       "      <td>PHH</td>\n",
       "      <td>Park Ha Biological Technology Co., Ltd.</td>\n",
       "      <td>$4.00</td>\n",
       "      <td>$21.91</td>\n",
       "      <td>447.75%</td>\n",
       "    </tr>\n",
       "    <tr>\n",
       "      <th>2</th>\n",
       "      <td>Dec 23, 2024</td>\n",
       "      <td>HIT</td>\n",
       "      <td>Health In Tech, Inc.</td>\n",
       "      <td>$4.00</td>\n",
       "      <td>$0.59</td>\n",
       "      <td>-85.31%</td>\n",
       "    </tr>\n",
       "    <tr>\n",
       "      <th>3</th>\n",
       "      <td>Dec 23, 2024</td>\n",
       "      <td>TDAC</td>\n",
       "      <td>Translational Development Acquisition Corp.</td>\n",
       "      <td>$10.00</td>\n",
       "      <td>$10.27</td>\n",
       "      <td>2.70%</td>\n",
       "    </tr>\n",
       "    <tr>\n",
       "      <th>4</th>\n",
       "      <td>Dec 20, 2024</td>\n",
       "      <td>RANG</td>\n",
       "      <td>Range Capital Acquisition Corp.</td>\n",
       "      <td>$10.00</td>\n",
       "      <td>$10.20</td>\n",
       "      <td>2.00%</td>\n",
       "    </tr>\n",
       "  </tbody>\n",
       "</table>\n",
       "</div>"
      ],
      "text/plain": [
       "       IPO Date Symbol                                 Company Name IPO Price  \\\n",
       "0  Dec 31, 2024   ONEG                OneConstruction Group Limited     $4.00   \n",
       "1  Dec 27, 2024    PHH      Park Ha Biological Technology Co., Ltd.     $4.00   \n",
       "2  Dec 23, 2024    HIT                         Health In Tech, Inc.     $4.00   \n",
       "3  Dec 23, 2024   TDAC  Translational Development Acquisition Corp.    $10.00   \n",
       "4  Dec 20, 2024   RANG              Range Capital Acquisition Corp.    $10.00   \n",
       "\n",
       "  Current   Return  \n",
       "0   $4.15    3.75%  \n",
       "1  $21.91  447.75%  \n",
       "2   $0.59  -85.31%  \n",
       "3  $10.27    2.70%  \n",
       "4  $10.20    2.00%  "
      ]
     },
     "execution_count": 77,
     "metadata": {},
     "output_type": "execute_result"
    }
   ],
   "source": [
    "url = \"https://stockanalysis.com/ipos/2024/\"\n",
    "df_sharpe = pd.read_html(url)[0]\n",
    "df_sharpe.head()"
   ]
  },
  {
   "cell_type": "code",
   "execution_count": 78,
   "id": "6443042b",
   "metadata": {},
   "outputs": [],
   "source": [
    "df_sharpe['IPO Date'] = pd.to_datetime(df_sharpe['IPO Date'], format='mixed')"
   ]
  },
  {
   "cell_type": "code",
   "execution_count": 82,
   "id": "62832550",
   "metadata": {},
   "outputs": [
    {
     "data": {
      "text/plain": [
       "((77, 6), 77)"
      ]
     },
     "execution_count": 82,
     "metadata": {},
     "output_type": "execute_result"
    }
   ],
   "source": [
    "df_sharpe_subset = df_sharpe[df_sharpe['IPO Date'] < '2024-06-01'].copy()\n",
    "df_sharpe_subset.shape, df_sharpe_subset['Symbol'].nunique()"
   ]
  },
  {
   "cell_type": "code",
   "execution_count": 129,
   "id": "9b7603b6",
   "metadata": {},
   "outputs": [
    {
     "data": {
      "text/plain": [
       "count                               77\n",
       "mean     2024-03-17 13:42:51.428571392\n",
       "min                2024-01-09 00:00:00\n",
       "25%                2024-02-07 00:00:00\n",
       "50%                2024-03-22 00:00:00\n",
       "75%                2024-04-22 00:00:00\n",
       "max                2024-05-31 00:00:00\n",
       "Name: IPO Date, dtype: object"
      ]
     },
     "execution_count": 129,
     "metadata": {},
     "output_type": "execute_result"
    }
   ],
   "source": [
    "df_sharpe_subset['IPO Date'].describe()"
   ]
  },
  {
   "cell_type": "code",
   "execution_count": 85,
   "id": "0490c81c",
   "metadata": {},
   "outputs": [],
   "source": [
    "tickers = df_sharpe_subset['Symbol'].unique().tolist()"
   ]
  },
  {
   "cell_type": "code",
   "execution_count": 88,
   "id": "6890e25a",
   "metadata": {},
   "outputs": [
    {
     "name": "stdout",
     "output_type": "stream",
     "text": [
      "0 NAKA\n",
      "1 BOW\n",
      "2 HDL\n",
      "3 RFAI\n",
      "4 JDZG\n",
      "5 RAY\n",
      "6 BTOC\n",
      "7 ZK\n",
      "8 GPAT\n",
      "9 PAL\n",
      "10 SVCO\n",
      "11 NNE\n",
      "12 CCIX\n",
      "13 VIK\n",
      "14 ZONE\n",
      "15 LOAR\n",
      "16 MRX\n",
      "17 RBRK\n",
      "18 NCI\n",
      "19 MFI\n",
      "20 YYGH\n",
      "21 TRSG\n",
      "22 CDTG\n",
      "23 CTRI\n",
      "24 IBTA\n",
      "25 MTEN\n",
      "26 SUPX\n",
      "27 TWG\n",
      "28 ULS\n",
      "29 PACS\n",
      "30 MNDR\n",
      "31 CTNM\n",
      "32 MAMO\n",
      "33 ZBAO\n",
      "34 BOLD\n",
      "35 MMA\n",
      "36 UBXG\n",
      "37 IBAC\n",
      "38 AUNA\n",
      "39 BKHA\n",
      "40 LOBO\n",
      "41 RDDT\n",
      "42 ALAB\n",
      "43 INTJ\n",
      "44 RYDE\n",
      "45 LGCL\n",
      "46 SMXT\n",
      "47 VHAI\n",
      "48 DYCQ\n",
      "49 CHRO\n",
      "50 UMAC\n",
      "51 HLXB\n",
      "52 MGX\n",
      "53 TBBB\n",
      "54 TELO\n",
      "55 KYTX\n",
      "56 PMNT\n",
      "57 AHR\n",
      "58 LEGT\n",
      "59 ANRO\n",
      "60 GUTS\n",
      "61 AS\n",
      "62 FBLG\n",
      "63 AVBP\n",
      "64 BTSG\n",
      "65 HAO\n",
      "66 CGON\n",
      "67 YIBO\n",
      "68 JL\n",
      "69 SUGP\n",
      "70 JVSA\n",
      "71 KSPI\n",
      "72 CCTG\n",
      "73 PSBD\n",
      "74 SYNX\n",
      "75 SDHC\n",
      "76 ROMA\n"
     ]
    }
   ],
   "source": [
    "\n",
    "stocks_df = pd.DataFrame({'A' : []})\n",
    "\n",
    "for i,ticker in enumerate(tickers):\n",
    "  print(i,ticker)\n",
    "\n",
    "  # Work with stock prices\n",
    "  ticker_obj = yf.Ticker(ticker)\n",
    "\n",
    "  # historyPrices = yf.download(tickers = ticker,\n",
    "  #                    period = \"max\",\n",
    "  #                    interval = \"1d\")\n",
    "  historyPrices = ticker_obj.history(\n",
    "                     period = \"max\",\n",
    "                     interval = \"1d\")\n",
    "\n",
    "  # generate features for historical prices, and what we want to predict\n",
    "  historyPrices['Ticker'] = ticker\n",
    "  historyPrices['Year']= historyPrices.index.year\n",
    "  historyPrices['Month'] = historyPrices.index.month\n",
    "  historyPrices['Weekday'] = historyPrices.index.weekday\n",
    "  historyPrices['Date'] = historyPrices.index.date\n",
    "\n",
    "  # historical returns\n",
    "  for i in [1,3,7,30,90,252,365]:\n",
    "    historyPrices['growth_'+str(i)+'d'] = historyPrices['Close'] / historyPrices['Close'].shift(i)\n",
    "  historyPrices['growth_future_30d'] = historyPrices['Close'].shift(-30) / historyPrices['Close']\n",
    "\n",
    "  # Technical indicators\n",
    "  # SimpleMovingAverage 10 days and 20 days\n",
    "  historyPrices['SMA10']= historyPrices['Close'].rolling(10).mean()\n",
    "  historyPrices['SMA20']= historyPrices['Close'].rolling(20).mean()\n",
    "  historyPrices['growing_moving_average'] = np.where(historyPrices['SMA10'] > historyPrices['SMA20'], 1, 0)\n",
    "  historyPrices['high_minus_low_relative'] = (historyPrices.High - historyPrices.Low) / historyPrices['Close']\n",
    "\n",
    "  # 30d rolling volatility : https://ycharts.com/glossary/terms/rolling_vol_30\n",
    "  historyPrices['volatility'] =   historyPrices['Close'].rolling(30).std() * np.sqrt(252)\n",
    "\n",
    "  # what we want to predict\n",
    "  historyPrices['is_positive_growth_30d_future'] = np.where(historyPrices['growth_future_30d'] > 1, 1, 0)\n",
    "\n",
    "  # sleep 1 sec between downloads - not to overload the API server\n",
    "  time.sleep(1)\n",
    "\n",
    "\n",
    "  if stocks_df.empty:\n",
    "    stocks_df = historyPrices\n",
    "  else:\n",
    "    stocks_df = pd.concat([stocks_df, historyPrices], ignore_index=True)"
   ]
  },
  {
   "cell_type": "code",
   "execution_count": 90,
   "id": "88288696",
   "metadata": {},
   "outputs": [],
   "source": [
    "stocks_df['Sharpe'] = (stocks_df['growth_252d'] - 0.045) / stocks_df['volatility']"
   ]
  },
  {
   "cell_type": "code",
   "execution_count": 125,
   "id": "93d213ba",
   "metadata": {},
   "outputs": [
    {
     "data": {
      "text/plain": [
       "(77, 27)"
      ]
     },
     "execution_count": 125,
     "metadata": {},
     "output_type": "execute_result"
    }
   ],
   "source": [
    "trading_day = stocks_df[stocks_df['Date']==date(2025, 6, 6)].copy()\n",
    "trading_day.shape"
   ]
  },
  {
   "cell_type": "code",
   "execution_count": 126,
   "id": "8c84648f",
   "metadata": {},
   "outputs": [
    {
     "data": {
      "text/plain": [
       "Sharpe         73\n",
       "growth_252d    73\n",
       "dtype: int64"
      ]
     },
     "execution_count": 126,
     "metadata": {},
     "output_type": "execute_result"
    }
   ],
   "source": [
    "trading_day[['Sharpe', 'growth_252d']].notnull().sum()"
   ]
  },
  {
   "cell_type": "code",
   "execution_count": 122,
   "id": "0e628fa5",
   "metadata": {},
   "outputs": [
    {
     "data": {
      "text/html": [
       "<div>\n",
       "<style scoped>\n",
       "    .dataframe tbody tr th:only-of-type {\n",
       "        vertical-align: middle;\n",
       "    }\n",
       "\n",
       "    .dataframe tbody tr th {\n",
       "        vertical-align: top;\n",
       "    }\n",
       "\n",
       "    .dataframe thead th {\n",
       "        text-align: right;\n",
       "    }\n",
       "</style>\n",
       "<table border=\"1\" class=\"dataframe\">\n",
       "  <thead>\n",
       "    <tr style=\"text-align: right;\">\n",
       "      <th></th>\n",
       "      <th>Sharpe</th>\n",
       "      <th>growth_252d</th>\n",
       "    </tr>\n",
       "  </thead>\n",
       "  <tbody>\n",
       "    <tr>\n",
       "      <th>count</th>\n",
       "      <td>73.00</td>\n",
       "      <td>73.00</td>\n",
       "    </tr>\n",
       "    <tr>\n",
       "      <th>mean</th>\n",
       "      <td>0.28</td>\n",
       "      <td>1.23</td>\n",
       "    </tr>\n",
       "    <tr>\n",
       "      <th>std</th>\n",
       "      <td>0.51</td>\n",
       "      <td>1.48</td>\n",
       "    </tr>\n",
       "    <tr>\n",
       "      <th>min</th>\n",
       "      <td>-0.08</td>\n",
       "      <td>0.02</td>\n",
       "    </tr>\n",
       "    <tr>\n",
       "      <th>25%</th>\n",
       "      <td>0.04</td>\n",
       "      <td>0.29</td>\n",
       "    </tr>\n",
       "    <tr>\n",
       "      <th>50%</th>\n",
       "      <td>0.08</td>\n",
       "      <td>0.76</td>\n",
       "    </tr>\n",
       "    <tr>\n",
       "      <th>75%</th>\n",
       "      <td>0.29</td>\n",
       "      <td>1.45</td>\n",
       "    </tr>\n",
       "    <tr>\n",
       "      <th>max</th>\n",
       "      <td>2.84</td>\n",
       "      <td>8.10</td>\n",
       "    </tr>\n",
       "  </tbody>\n",
       "</table>\n",
       "</div>"
      ],
      "text/plain": [
       "       Sharpe  growth_252d\n",
       "count   73.00        73.00\n",
       "mean     0.28         1.23\n",
       "std      0.51         1.48\n",
       "min     -0.08         0.02\n",
       "25%      0.04         0.29\n",
       "50%      0.08         0.76\n",
       "75%      0.29         1.45\n",
       "max      2.84         8.10"
      ]
     },
     "execution_count": 122,
     "metadata": {},
     "output_type": "execute_result"
    }
   ],
   "source": [
    "trading_day[['Sharpe', 'growth_252d']].describe()"
   ]
  },
  {
   "cell_type": "code",
   "execution_count": 133,
   "id": "8dc2fbc7",
   "metadata": {},
   "outputs": [],
   "source": [
    "top_10_sharpe = trading_day.sort_values(\"Sharpe\", ascending=False)[['Ticker']].head(10)"
   ]
  },
  {
   "cell_type": "code",
   "execution_count": 134,
   "id": "22209147",
   "metadata": {},
   "outputs": [],
   "source": [
    "top_10_growth_yoy =trading_day.sort_values(\"growth_252d\", ascending=False)[['Ticker']].head(10)"
   ]
  },
  {
   "cell_type": "code",
   "execution_count": 136,
   "id": "0a1ef5cc",
   "metadata": {},
   "outputs": [
    {
     "data": {
      "text/plain": [
       "{'JL'}"
      ]
     },
     "execution_count": 136,
     "metadata": {},
     "output_type": "execute_result"
    }
   ],
   "source": [
    "set(top_10_sharpe['Ticker'].values).intersection(set(top_10_growth_yoy['Ticker'].values))"
   ]
  },
  {
   "cell_type": "code",
   "execution_count": 137,
   "id": "8adcd950",
   "metadata": {},
   "outputs": [
    {
     "data": {
      "text/plain": [
       "{'BKHA', 'DYCQ', 'HLXB', 'IBAC', 'INTJ', 'JVSA', 'LEGT', 'MNDR', 'TRSG'}"
      ]
     },
     "execution_count": 137,
     "metadata": {},
     "output_type": "execute_result"
    }
   ],
   "source": [
    "set(top_10_sharpe['Ticker'].values).difference(set(top_10_growth_yoy['Ticker'].values))"
   ]
  },
  {
   "cell_type": "markdown",
   "id": "1ea3ec7a",
   "metadata": {},
   "source": [
    "# Question 3"
   ]
  },
  {
   "cell_type": "code",
   "execution_count": null,
   "id": "1d91087d",
   "metadata": {},
   "outputs": [],
   "source": []
  }
 ],
 "metadata": {
  "kernelspec": {
   "display_name": "markets",
   "language": "python",
   "name": "python3"
  },
  "language_info": {
   "codemirror_mode": {
    "name": "ipython",
    "version": 3
   },
   "file_extension": ".py",
   "mimetype": "text/x-python",
   "name": "python",
   "nbconvert_exporter": "python",
   "pygments_lexer": "ipython3",
   "version": "3.10.16"
  }
 },
 "nbformat": 4,
 "nbformat_minor": 5
}
