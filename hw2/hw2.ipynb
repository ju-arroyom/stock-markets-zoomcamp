{
 "cells": [
  {
   "cell_type": "code",
   "execution_count": 1,
   "id": "6742c7c5",
   "metadata": {},
   "outputs": [
    {
     "name": "stderr",
     "output_type": "stream",
     "text": [
      "/opt/conda/envs/markets/lib/python3.10/site-packages/requests/__init__.py:86: RequestsDependencyWarning: Unable to find acceptable character detection dependency (chardet or charset_normalizer).\n",
      "  warnings.warn(\n"
     ]
    }
   ],
   "source": [
    "import time\n",
    "import gdown\n",
    "import pandas as pd\n",
    "import numpy as np\n",
    "from datetime import date\n",
    "import yfinance as yf\n",
    "import plotly.express as px\n",
    "pd.set_option('display.max_rows', 100)\n",
    "pd.options.display.float_format = '{:,.2f}'.format "
   ]
  },
  {
   "cell_type": "markdown",
   "id": "d44d45f0",
   "metadata": {},
   "source": [
    "# Question 1"
   ]
  },
  {
   "cell_type": "code",
   "execution_count": 2,
   "id": "66e9f9ab",
   "metadata": {},
   "outputs": [
    {
     "data": {
      "text/html": [
       "<div>\n",
       "<style scoped>\n",
       "    .dataframe tbody tr th:only-of-type {\n",
       "        vertical-align: middle;\n",
       "    }\n",
       "\n",
       "    .dataframe tbody tr th {\n",
       "        vertical-align: top;\n",
       "    }\n",
       "\n",
       "    .dataframe thead th {\n",
       "        text-align: right;\n",
       "    }\n",
       "</style>\n",
       "<table border=\"1\" class=\"dataframe\">\n",
       "  <thead>\n",
       "    <tr style=\"text-align: right;\">\n",
       "      <th></th>\n",
       "      <th>Symbol</th>\n",
       "      <th>Company Name</th>\n",
       "      <th>Price Range</th>\n",
       "      <th>Shares Offered</th>\n",
       "    </tr>\n",
       "  </thead>\n",
       "  <tbody>\n",
       "    <tr>\n",
       "      <th>0</th>\n",
       "      <td>ODTX</td>\n",
       "      <td>Odyssey Therapeutics, Inc.</td>\n",
       "      <td>-</td>\n",
       "      <td>-</td>\n",
       "    </tr>\n",
       "    <tr>\n",
       "      <th>1</th>\n",
       "      <td>UNFL</td>\n",
       "      <td>Unifoil Holdings, Inc.</td>\n",
       "      <td>$3.00 - $4.00</td>\n",
       "      <td>2000000</td>\n",
       "    </tr>\n",
       "    <tr>\n",
       "      <th>2</th>\n",
       "      <td>AURN</td>\n",
       "      <td>Aurion Biotech, Inc.</td>\n",
       "      <td>-</td>\n",
       "      <td>-</td>\n",
       "    </tr>\n",
       "    <tr>\n",
       "      <th>3</th>\n",
       "      <td>ROTR</td>\n",
       "      <td>PHI Group, Inc.</td>\n",
       "      <td>-</td>\n",
       "      <td>-</td>\n",
       "    </tr>\n",
       "    <tr>\n",
       "      <th>4</th>\n",
       "      <td>ONE</td>\n",
       "      <td>One Power Company</td>\n",
       "      <td>-</td>\n",
       "      <td>-</td>\n",
       "    </tr>\n",
       "  </tbody>\n",
       "</table>\n",
       "</div>"
      ],
      "text/plain": [
       "  Symbol                Company Name    Price Range Shares Offered\n",
       "0   ODTX  Odyssey Therapeutics, Inc.              -              -\n",
       "1   UNFL      Unifoil Holdings, Inc.  $3.00 - $4.00        2000000\n",
       "2   AURN        Aurion Biotech, Inc.              -              -\n",
       "3   ROTR             PHI Group, Inc.              -              -\n",
       "4    ONE           One Power Company              -              -"
      ]
     },
     "execution_count": 2,
     "metadata": {},
     "output_type": "execute_result"
    }
   ],
   "source": [
    "url = \"https://stockanalysis.com/ipos/withdrawn/\"\n",
    "df = pd.read_html(url)[0]\n",
    "df.head()"
   ]
  },
  {
   "cell_type": "code",
   "execution_count": 3,
   "id": "37a005f1",
   "metadata": {},
   "outputs": [],
   "source": [
    "def create_company_class(df):\n",
    "    df['company_class_helper'] = df['Company Name'].str.lower()\n",
    "    # Conditions\n",
    "    cond = [df['company_class_helper'].str.contains(\"acquisition|corporation|corp.\"),\n",
    "            df['company_class_helper'].str.contains(\"inc.|incorporated\"),\n",
    "            df['company_class_helper'].str.contains(\"group\"),\n",
    "            df['company_class_helper'].str.contains(\"ltd.?|limited\"),\n",
    "            df['company_class_helper'].str.contains(\"holdings\"),]\n",
    "    choices = [\"Acq.Corp\", \"Inc\", \"Group\", \"Limited\", \"Holdings\"]\n",
    "    df[\"Company Class\"] = np.select(cond, choices, default=\"Other\")\n",
    "    # Drop helper column\n",
    "    df.drop('company_class_helper', axis=1, inplace=True)\n",
    "    return df"
   ]
  },
  {
   "cell_type": "code",
   "execution_count": 4,
   "id": "3aae0984",
   "metadata": {},
   "outputs": [],
   "source": [
    "def create_avg_price(data):\n",
    "    df = data.copy()\n",
    "    df['Price Range'] = df['Price Range'].str.split(\"-\")\n",
    "    def compute_mean(row):\n",
    "        try:\n",
    "            num_list = [float(num.replace(\"$\", \"\").strip()) for num in row]\n",
    "            return np.mean(num_list)\n",
    "        except:\n",
    "            return None\n",
    "    df['Avg. Price'] = df['Price Range'].apply(compute_mean)\n",
    "    return df\n"
   ]
  },
  {
   "cell_type": "code",
   "execution_count": 5,
   "id": "0c8048cf",
   "metadata": {},
   "outputs": [],
   "source": [
    "df = create_company_class(df)"
   ]
  },
  {
   "cell_type": "code",
   "execution_count": 6,
   "id": "722d425e",
   "metadata": {},
   "outputs": [],
   "source": [
    "df = create_avg_price(df)"
   ]
  },
  {
   "cell_type": "code",
   "execution_count": 7,
   "id": "9b47f80c",
   "metadata": {},
   "outputs": [
    {
     "data": {
      "text/html": [
       "<div>\n",
       "<style scoped>\n",
       "    .dataframe tbody tr th:only-of-type {\n",
       "        vertical-align: middle;\n",
       "    }\n",
       "\n",
       "    .dataframe tbody tr th {\n",
       "        vertical-align: top;\n",
       "    }\n",
       "\n",
       "    .dataframe thead th {\n",
       "        text-align: right;\n",
       "    }\n",
       "</style>\n",
       "<table border=\"1\" class=\"dataframe\">\n",
       "  <thead>\n",
       "    <tr style=\"text-align: right;\">\n",
       "      <th></th>\n",
       "      <th>Symbol</th>\n",
       "      <th>Company Name</th>\n",
       "      <th>Price Range</th>\n",
       "      <th>Shares Offered</th>\n",
       "      <th>Company Class</th>\n",
       "      <th>Avg. Price</th>\n",
       "    </tr>\n",
       "  </thead>\n",
       "  <tbody>\n",
       "    <tr>\n",
       "      <th>0</th>\n",
       "      <td>ODTX</td>\n",
       "      <td>Odyssey Therapeutics, Inc.</td>\n",
       "      <td>[, ]</td>\n",
       "      <td>-</td>\n",
       "      <td>Inc</td>\n",
       "      <td>NaN</td>\n",
       "    </tr>\n",
       "    <tr>\n",
       "      <th>1</th>\n",
       "      <td>UNFL</td>\n",
       "      <td>Unifoil Holdings, Inc.</td>\n",
       "      <td>[$3.00 ,  $4.00]</td>\n",
       "      <td>2000000</td>\n",
       "      <td>Inc</td>\n",
       "      <td>3.50</td>\n",
       "    </tr>\n",
       "    <tr>\n",
       "      <th>2</th>\n",
       "      <td>AURN</td>\n",
       "      <td>Aurion Biotech, Inc.</td>\n",
       "      <td>[, ]</td>\n",
       "      <td>-</td>\n",
       "      <td>Inc</td>\n",
       "      <td>NaN</td>\n",
       "    </tr>\n",
       "    <tr>\n",
       "      <th>3</th>\n",
       "      <td>ROTR</td>\n",
       "      <td>PHI Group, Inc.</td>\n",
       "      <td>[, ]</td>\n",
       "      <td>-</td>\n",
       "      <td>Inc</td>\n",
       "      <td>NaN</td>\n",
       "    </tr>\n",
       "    <tr>\n",
       "      <th>4</th>\n",
       "      <td>ONE</td>\n",
       "      <td>One Power Company</td>\n",
       "      <td>[, ]</td>\n",
       "      <td>-</td>\n",
       "      <td>Other</td>\n",
       "      <td>NaN</td>\n",
       "    </tr>\n",
       "    <tr>\n",
       "      <th>5</th>\n",
       "      <td>HPOT</td>\n",
       "      <td>The Great Restaurant Development Holdings Limited</td>\n",
       "      <td>[$4.00 ,  $6.00]</td>\n",
       "      <td>1400000</td>\n",
       "      <td>Limited</td>\n",
       "      <td>5.00</td>\n",
       "    </tr>\n",
       "    <tr>\n",
       "      <th>6</th>\n",
       "      <td>CABR</td>\n",
       "      <td>Caring Brands, Inc.</td>\n",
       "      <td>[$4.00]</td>\n",
       "      <td>750000</td>\n",
       "      <td>Inc</td>\n",
       "      <td>4.00</td>\n",
       "    </tr>\n",
       "    <tr>\n",
       "      <th>7</th>\n",
       "      <td>SQVI</td>\n",
       "      <td>Sequoia Vaccines, Inc.</td>\n",
       "      <td>[$8.00 ,  $10.00]</td>\n",
       "      <td>2775000</td>\n",
       "      <td>Inc</td>\n",
       "      <td>9.00</td>\n",
       "    </tr>\n",
       "    <tr>\n",
       "      <th>8</th>\n",
       "      <td>SNI</td>\n",
       "      <td>Shenni Holdings Limited</td>\n",
       "      <td>[$4.00 ,  $6.00]</td>\n",
       "      <td>3000000</td>\n",
       "      <td>Limited</td>\n",
       "      <td>5.00</td>\n",
       "    </tr>\n",
       "    <tr>\n",
       "      <th>9</th>\n",
       "      <td>KMCM</td>\n",
       "      <td>Key Mining Corp.</td>\n",
       "      <td>[$2.25]</td>\n",
       "      <td>4444444</td>\n",
       "      <td>Acq.Corp</td>\n",
       "      <td>2.25</td>\n",
       "    </tr>\n",
       "  </tbody>\n",
       "</table>\n",
       "</div>"
      ],
      "text/plain": [
       "  Symbol                                       Company Name  \\\n",
       "0   ODTX                         Odyssey Therapeutics, Inc.   \n",
       "1   UNFL                             Unifoil Holdings, Inc.   \n",
       "2   AURN                               Aurion Biotech, Inc.   \n",
       "3   ROTR                                    PHI Group, Inc.   \n",
       "4    ONE                                  One Power Company   \n",
       "5   HPOT  The Great Restaurant Development Holdings Limited   \n",
       "6   CABR                                Caring Brands, Inc.   \n",
       "7   SQVI                             Sequoia Vaccines, Inc.   \n",
       "8    SNI                            Shenni Holdings Limited   \n",
       "9   KMCM                                   Key Mining Corp.   \n",
       "\n",
       "         Price Range Shares Offered Company Class  Avg. Price  \n",
       "0               [, ]              -           Inc         NaN  \n",
       "1   [$3.00 ,  $4.00]        2000000           Inc        3.50  \n",
       "2               [, ]              -           Inc         NaN  \n",
       "3               [, ]              -           Inc         NaN  \n",
       "4               [, ]              -         Other         NaN  \n",
       "5   [$4.00 ,  $6.00]        1400000       Limited        5.00  \n",
       "6            [$4.00]         750000           Inc        4.00  \n",
       "7  [$8.00 ,  $10.00]        2775000           Inc        9.00  \n",
       "8   [$4.00 ,  $6.00]        3000000       Limited        5.00  \n",
       "9            [$2.25]        4444444      Acq.Corp        2.25  "
      ]
     },
     "execution_count": 7,
     "metadata": {},
     "output_type": "execute_result"
    }
   ],
   "source": [
    "df.head(10)"
   ]
  },
  {
   "cell_type": "code",
   "execution_count": 8,
   "id": "c4e04b76",
   "metadata": {},
   "outputs": [],
   "source": [
    "df['Shares Offered'] =  pd.to_numeric(df['Shares Offered'], errors='coerce')\n",
    "df['Withdrawn Value'] = df['Avg. Price'] * df['Shares Offered']"
   ]
  },
  {
   "cell_type": "code",
   "execution_count": 9,
   "id": "0216a24f",
   "metadata": {},
   "outputs": [
    {
     "data": {
      "text/plain": [
       "Symbol             100\n",
       "Company Name       100\n",
       "Price Range        100\n",
       "Shares Offered      72\n",
       "Company Class      100\n",
       "Avg. Price          73\n",
       "Withdrawn Value     71\n",
       "dtype: int64"
      ]
     },
     "execution_count": 9,
     "metadata": {},
     "output_type": "execute_result"
    }
   ],
   "source": [
    "df.notnull().sum()"
   ]
  },
  {
   "cell_type": "code",
   "execution_count": 10,
   "id": "265f00e3",
   "metadata": {},
   "outputs": [
    {
     "data": {
      "text/html": [
       "<div>\n",
       "<style scoped>\n",
       "    .dataframe tbody tr th:only-of-type {\n",
       "        vertical-align: middle;\n",
       "    }\n",
       "\n",
       "    .dataframe tbody tr th {\n",
       "        vertical-align: top;\n",
       "    }\n",
       "\n",
       "    .dataframe thead th {\n",
       "        text-align: right;\n",
       "    }\n",
       "</style>\n",
       "<table border=\"1\" class=\"dataframe\">\n",
       "  <thead>\n",
       "    <tr style=\"text-align: right;\">\n",
       "      <th></th>\n",
       "      <th>Company Class</th>\n",
       "      <th>Withdrawn Value</th>\n",
       "    </tr>\n",
       "  </thead>\n",
       "  <tbody>\n",
       "    <tr>\n",
       "      <th>0</th>\n",
       "      <td>Acq.Corp</td>\n",
       "      <td>4,111.85</td>\n",
       "    </tr>\n",
       "    <tr>\n",
       "      <th>2</th>\n",
       "      <td>Inc</td>\n",
       "      <td>2,257.16</td>\n",
       "    </tr>\n",
       "    <tr>\n",
       "      <th>4</th>\n",
       "      <td>Other</td>\n",
       "      <td>752.07</td>\n",
       "    </tr>\n",
       "    <tr>\n",
       "      <th>3</th>\n",
       "      <td>Limited</td>\n",
       "      <td>549.73</td>\n",
       "    </tr>\n",
       "    <tr>\n",
       "      <th>1</th>\n",
       "      <td>Group</td>\n",
       "      <td>33.79</td>\n",
       "    </tr>\n",
       "  </tbody>\n",
       "</table>\n",
       "</div>"
      ],
      "text/plain": [
       "  Company Class  Withdrawn Value\n",
       "0      Acq.Corp         4,111.85\n",
       "2           Inc         2,257.16\n",
       "4         Other           752.07\n",
       "3       Limited           549.73\n",
       "1         Group            33.79"
      ]
     },
     "execution_count": 10,
     "metadata": {},
     "output_type": "execute_result"
    }
   ],
   "source": [
    "agg_df = df.groupby(\"Company Class\", as_index=False)['Withdrawn Value'].sum().sort_values('Withdrawn Value', ascending=False)\n",
    "agg_df['Withdrawn Value'] = agg_df['Withdrawn Value']/1e6\n",
    "agg_df"
   ]
  },
  {
   "cell_type": "markdown",
   "id": "cb7ceeef",
   "metadata": {},
   "source": [
    "# Question 2"
   ]
  },
  {
   "cell_type": "code",
   "execution_count": 11,
   "id": "5e072be9",
   "metadata": {},
   "outputs": [
    {
     "data": {
      "text/html": [
       "<div>\n",
       "<style scoped>\n",
       "    .dataframe tbody tr th:only-of-type {\n",
       "        vertical-align: middle;\n",
       "    }\n",
       "\n",
       "    .dataframe tbody tr th {\n",
       "        vertical-align: top;\n",
       "    }\n",
       "\n",
       "    .dataframe thead th {\n",
       "        text-align: right;\n",
       "    }\n",
       "</style>\n",
       "<table border=\"1\" class=\"dataframe\">\n",
       "  <thead>\n",
       "    <tr style=\"text-align: right;\">\n",
       "      <th></th>\n",
       "      <th>IPO Date</th>\n",
       "      <th>Symbol</th>\n",
       "      <th>Company Name</th>\n",
       "      <th>IPO Price</th>\n",
       "      <th>Current</th>\n",
       "      <th>Return</th>\n",
       "    </tr>\n",
       "  </thead>\n",
       "  <tbody>\n",
       "    <tr>\n",
       "      <th>0</th>\n",
       "      <td>Dec 31, 2024</td>\n",
       "      <td>ONEG</td>\n",
       "      <td>OneConstruction Group Limited</td>\n",
       "      <td>$4.00</td>\n",
       "      <td>$5.00</td>\n",
       "      <td>25.00%</td>\n",
       "    </tr>\n",
       "    <tr>\n",
       "      <th>1</th>\n",
       "      <td>Dec 27, 2024</td>\n",
       "      <td>PHH</td>\n",
       "      <td>Park Ha Biological Technology Co., Ltd.</td>\n",
       "      <td>$4.00</td>\n",
       "      <td>$26.57</td>\n",
       "      <td>564.25%</td>\n",
       "    </tr>\n",
       "    <tr>\n",
       "      <th>2</th>\n",
       "      <td>Dec 23, 2024</td>\n",
       "      <td>HIT</td>\n",
       "      <td>Health In Tech, Inc.</td>\n",
       "      <td>$4.00</td>\n",
       "      <td>$0.62</td>\n",
       "      <td>-84.40%</td>\n",
       "    </tr>\n",
       "    <tr>\n",
       "      <th>3</th>\n",
       "      <td>Dec 23, 2024</td>\n",
       "      <td>TDAC</td>\n",
       "      <td>Translational Development Acquisition Corp.</td>\n",
       "      <td>$10.00</td>\n",
       "      <td>$10.28</td>\n",
       "      <td>2.80%</td>\n",
       "    </tr>\n",
       "    <tr>\n",
       "      <th>4</th>\n",
       "      <td>Dec 20, 2024</td>\n",
       "      <td>RANG</td>\n",
       "      <td>Range Capital Acquisition Corp.</td>\n",
       "      <td>$10.00</td>\n",
       "      <td>$10.21</td>\n",
       "      <td>2.10%</td>\n",
       "    </tr>\n",
       "  </tbody>\n",
       "</table>\n",
       "</div>"
      ],
      "text/plain": [
       "       IPO Date Symbol                                 Company Name IPO Price  \\\n",
       "0  Dec 31, 2024   ONEG                OneConstruction Group Limited     $4.00   \n",
       "1  Dec 27, 2024    PHH      Park Ha Biological Technology Co., Ltd.     $4.00   \n",
       "2  Dec 23, 2024    HIT                         Health In Tech, Inc.     $4.00   \n",
       "3  Dec 23, 2024   TDAC  Translational Development Acquisition Corp.    $10.00   \n",
       "4  Dec 20, 2024   RANG              Range Capital Acquisition Corp.    $10.00   \n",
       "\n",
       "  Current   Return  \n",
       "0   $5.00   25.00%  \n",
       "1  $26.57  564.25%  \n",
       "2   $0.62  -84.40%  \n",
       "3  $10.28    2.80%  \n",
       "4  $10.21    2.10%  "
      ]
     },
     "execution_count": 11,
     "metadata": {},
     "output_type": "execute_result"
    }
   ],
   "source": [
    "url = \"https://stockanalysis.com/ipos/2024/\"\n",
    "df_sharpe = pd.read_html(url)[0]\n",
    "df_sharpe.head()"
   ]
  },
  {
   "cell_type": "code",
   "execution_count": 12,
   "id": "6443042b",
   "metadata": {},
   "outputs": [],
   "source": [
    "df_sharpe['IPO Date'] = pd.to_datetime(df_sharpe['IPO Date'], format='mixed')"
   ]
  },
  {
   "cell_type": "code",
   "execution_count": 13,
   "id": "62832550",
   "metadata": {},
   "outputs": [
    {
     "data": {
      "text/plain": [
       "((77, 6), 77)"
      ]
     },
     "execution_count": 13,
     "metadata": {},
     "output_type": "execute_result"
    }
   ],
   "source": [
    "df_sharpe_subset = df_sharpe[df_sharpe['IPO Date'] < '2024-06-01'].copy()\n",
    "df_sharpe_subset.shape, df_sharpe_subset['Symbol'].nunique()"
   ]
  },
  {
   "cell_type": "code",
   "execution_count": 14,
   "id": "2103c29d",
   "metadata": {},
   "outputs": [
    {
     "data": {
      "text/plain": [
       "((75, 6), 75)"
      ]
     },
     "execution_count": 14,
     "metadata": {},
     "output_type": "execute_result"
    }
   ],
   "source": [
    "invalid_tickers = ['NAKA', 'SUPX']\n",
    "df_sharpe_subset = df_sharpe_subset.query(\"Symbol not in @invalid_tickers\")\n",
    "df_sharpe_subset.shape, df_sharpe_subset['Symbol'].nunique()"
   ]
  },
  {
   "cell_type": "code",
   "execution_count": 15,
   "id": "9b7603b6",
   "metadata": {},
   "outputs": [
    {
     "data": {
      "text/plain": [
       "count                     75\n",
       "mean     2024-03-16 04:09:36\n",
       "min      2024-01-09 00:00:00\n",
       "25%      2024-02-06 12:00:00\n",
       "50%      2024-03-21 00:00:00\n",
       "75%      2024-04-22 00:00:00\n",
       "max      2024-05-23 00:00:00\n",
       "Name: IPO Date, dtype: object"
      ]
     },
     "execution_count": 15,
     "metadata": {},
     "output_type": "execute_result"
    }
   ],
   "source": [
    "df_sharpe_subset['IPO Date'].describe()"
   ]
  },
  {
   "cell_type": "code",
   "execution_count": 16,
   "id": "0490c81c",
   "metadata": {},
   "outputs": [],
   "source": [
    "tickers = df_sharpe_subset['Symbol'].unique().tolist()"
   ]
  },
  {
   "cell_type": "code",
   "execution_count": 17,
   "id": "6890e25a",
   "metadata": {},
   "outputs": [
    {
     "name": "stdout",
     "output_type": "stream",
     "text": [
      "0 BOW\n",
      "1 HDL\n",
      "2 RFAI\n",
      "3 JDZG\n",
      "4 RAY\n",
      "5 BTOC\n",
      "6 ZK\n",
      "7 GPAT\n",
      "8 PAL\n",
      "9 SVCO\n",
      "10 NNE\n",
      "11 CCIX\n",
      "12 VIK\n",
      "13 ZONE\n",
      "14 LOAR\n",
      "15 MRX\n",
      "16 RBRK\n",
      "17 NCI\n",
      "18 MFI\n",
      "19 YYGH\n",
      "20 TRSG\n",
      "21 CDTG\n",
      "22 CTRI\n",
      "23 IBTA\n",
      "24 MTEN\n",
      "25 TWG\n",
      "26 ULS\n",
      "27 PACS\n",
      "28 MNDR\n",
      "29 CTNM\n",
      "30 MAMO\n",
      "31 ZBAO\n",
      "32 BOLD\n",
      "33 MMA\n",
      "34 UBXG\n",
      "35 IBAC\n",
      "36 AUNA\n",
      "37 BKHA\n",
      "38 LOBO\n",
      "39 RDDT\n",
      "40 ALAB\n",
      "41 INTJ\n",
      "42 RYDE\n",
      "43 LGCL\n",
      "44 SMXT\n",
      "45 VHAI\n",
      "46 DYCQ\n",
      "47 CHRO\n",
      "48 UMAC\n",
      "49 HLXB\n",
      "50 MGX\n",
      "51 TBBB\n",
      "52 TELO\n",
      "53 KYTX\n",
      "54 PMNT\n",
      "55 AHR\n",
      "56 LEGT\n",
      "57 ANRO\n",
      "58 GUTS\n",
      "59 AS\n",
      "60 FBLG\n",
      "61 AVBP\n",
      "62 BTSG\n",
      "63 HAO\n",
      "64 CGON\n",
      "65 YIBO\n",
      "66 JL\n",
      "67 SUGP\n",
      "68 JVSA\n",
      "69 KSPI\n",
      "70 CCTG\n",
      "71 PSBD\n",
      "72 SYNX\n",
      "73 SDHC\n",
      "74 ROMA\n"
     ]
    }
   ],
   "source": [
    "\n",
    "stocks_df = pd.DataFrame({'A' : []})\n",
    "\n",
    "for i,ticker in enumerate(tickers):\n",
    "  print(i,ticker)\n",
    "\n",
    "  # Work with stock prices\n",
    "  ticker_obj = yf.Ticker(ticker)\n",
    "\n",
    "  # historyPrices = yf.download(tickers = ticker,\n",
    "  #                    period = \"max\",\n",
    "  #                    interval = \"1d\")\n",
    "  historyPrices = ticker_obj.history(\n",
    "                     period = \"max\",\n",
    "                     interval = \"1d\")\n",
    "\n",
    "  # generate features for historical prices, and what we want to predict\n",
    "  historyPrices['Ticker'] = ticker\n",
    "  historyPrices['Year']= historyPrices.index.year\n",
    "  historyPrices['Month'] = historyPrices.index.month\n",
    "  historyPrices['Weekday'] = historyPrices.index.weekday\n",
    "  historyPrices['Date'] = historyPrices.index.date\n",
    "\n",
    "  # historical returns\n",
    "  for i in [1,3,7,30,90,252,365]:\n",
    "    historyPrices['growth_'+str(i)+'d'] = historyPrices['Close'] / historyPrices['Close'].shift(i)\n",
    "  historyPrices['growth_future_30d'] = historyPrices['Close'].shift(-30) / historyPrices['Close']\n",
    "\n",
    "  # Technical indicators\n",
    "  # SimpleMovingAverage 10 days and 20 days\n",
    "  historyPrices['SMA10']= historyPrices['Close'].rolling(10).mean()\n",
    "  historyPrices['SMA20']= historyPrices['Close'].rolling(20).mean()\n",
    "  historyPrices['growing_moving_average'] = np.where(historyPrices['SMA10'] > historyPrices['SMA20'], 1, 0)\n",
    "  historyPrices['high_minus_low_relative'] = (historyPrices.High - historyPrices.Low) / historyPrices['Close']\n",
    "\n",
    "  # 30d rolling volatility : https://ycharts.com/glossary/terms/rolling_vol_30\n",
    "  historyPrices['volatility'] =   historyPrices['Close'].rolling(30).std() * np.sqrt(252)\n",
    "\n",
    "  # what we want to predict\n",
    "  historyPrices['is_positive_growth_30d_future'] = np.where(historyPrices['growth_future_30d'] > 1, 1, 0)\n",
    "\n",
    "  # sleep 1 sec between downloads - not to overload the API server\n",
    "  time.sleep(1)\n",
    "\n",
    "\n",
    "  if stocks_df.empty:\n",
    "    stocks_df = historyPrices\n",
    "  else:\n",
    "    stocks_df = pd.concat([stocks_df, historyPrices], ignore_index=True)"
   ]
  },
  {
   "cell_type": "code",
   "execution_count": 18,
   "id": "88288696",
   "metadata": {},
   "outputs": [],
   "source": [
    "stocks_df['Sharpe'] = (stocks_df['growth_252d'] - 0.045) / stocks_df['volatility']"
   ]
  },
  {
   "cell_type": "code",
   "execution_count": 19,
   "id": "93d213ba",
   "metadata": {},
   "outputs": [
    {
     "data": {
      "text/plain": [
       "(75, 27)"
      ]
     },
     "execution_count": 19,
     "metadata": {},
     "output_type": "execute_result"
    }
   ],
   "source": [
    "trading_day = stocks_df[stocks_df['Date']==date(2025, 6, 6)].copy()\n",
    "trading_day.shape"
   ]
  },
  {
   "cell_type": "code",
   "execution_count": 20,
   "id": "8c84648f",
   "metadata": {},
   "outputs": [
    {
     "data": {
      "text/plain": [
       "Sharpe         71\n",
       "growth_252d    71\n",
       "dtype: int64"
      ]
     },
     "execution_count": 20,
     "metadata": {},
     "output_type": "execute_result"
    }
   ],
   "source": [
    "trading_day[['Sharpe', 'growth_252d']].notnull().sum()"
   ]
  },
  {
   "cell_type": "code",
   "execution_count": 21,
   "id": "0e628fa5",
   "metadata": {},
   "outputs": [
    {
     "data": {
      "text/html": [
       "<div>\n",
       "<style scoped>\n",
       "    .dataframe tbody tr th:only-of-type {\n",
       "        vertical-align: middle;\n",
       "    }\n",
       "\n",
       "    .dataframe tbody tr th {\n",
       "        vertical-align: top;\n",
       "    }\n",
       "\n",
       "    .dataframe thead th {\n",
       "        text-align: right;\n",
       "    }\n",
       "</style>\n",
       "<table border=\"1\" class=\"dataframe\">\n",
       "  <thead>\n",
       "    <tr style=\"text-align: right;\">\n",
       "      <th></th>\n",
       "      <th>Sharpe</th>\n",
       "      <th>growth_252d</th>\n",
       "    </tr>\n",
       "  </thead>\n",
       "  <tbody>\n",
       "    <tr>\n",
       "      <th>count</th>\n",
       "      <td>71.00</td>\n",
       "      <td>71.00</td>\n",
       "    </tr>\n",
       "    <tr>\n",
       "      <th>mean</th>\n",
       "      <td>0.29</td>\n",
       "      <td>1.15</td>\n",
       "    </tr>\n",
       "    <tr>\n",
       "      <th>std</th>\n",
       "      <td>0.52</td>\n",
       "      <td>1.41</td>\n",
       "    </tr>\n",
       "    <tr>\n",
       "      <th>min</th>\n",
       "      <td>-0.08</td>\n",
       "      <td>0.02</td>\n",
       "    </tr>\n",
       "    <tr>\n",
       "      <th>25%</th>\n",
       "      <td>0.04</td>\n",
       "      <td>0.29</td>\n",
       "    </tr>\n",
       "    <tr>\n",
       "      <th>50%</th>\n",
       "      <td>0.08</td>\n",
       "      <td>0.76</td>\n",
       "    </tr>\n",
       "    <tr>\n",
       "      <th>75%</th>\n",
       "      <td>0.31</td>\n",
       "      <td>1.36</td>\n",
       "    </tr>\n",
       "    <tr>\n",
       "      <th>max</th>\n",
       "      <td>2.84</td>\n",
       "      <td>8.10</td>\n",
       "    </tr>\n",
       "  </tbody>\n",
       "</table>\n",
       "</div>"
      ],
      "text/plain": [
       "       Sharpe  growth_252d\n",
       "count   71.00        71.00\n",
       "mean     0.29         1.15\n",
       "std      0.52         1.41\n",
       "min     -0.08         0.02\n",
       "25%      0.04         0.29\n",
       "50%      0.08         0.76\n",
       "75%      0.31         1.36\n",
       "max      2.84         8.10"
      ]
     },
     "execution_count": 21,
     "metadata": {},
     "output_type": "execute_result"
    }
   ],
   "source": [
    "trading_day[['Sharpe', 'growth_252d']].describe()"
   ]
  },
  {
   "cell_type": "code",
   "execution_count": 22,
   "id": "8dc2fbc7",
   "metadata": {},
   "outputs": [],
   "source": [
    "top_10_sharpe = trading_day.sort_values(\"Sharpe\", ascending=False)[['Ticker']].head(10)"
   ]
  },
  {
   "cell_type": "code",
   "execution_count": 23,
   "id": "22209147",
   "metadata": {},
   "outputs": [],
   "source": [
    "top_10_growth_yoy =trading_day.sort_values(\"growth_252d\", ascending=False)[['Ticker']].head(10)"
   ]
  },
  {
   "cell_type": "code",
   "execution_count": 24,
   "id": "0a1ef5cc",
   "metadata": {},
   "outputs": [
    {
     "data": {
      "text/plain": [
       "{'JL'}"
      ]
     },
     "execution_count": 24,
     "metadata": {},
     "output_type": "execute_result"
    }
   ],
   "source": [
    "set(top_10_sharpe['Ticker'].values).intersection(set(top_10_growth_yoy['Ticker'].values))"
   ]
  },
  {
   "cell_type": "code",
   "execution_count": 25,
   "id": "8adcd950",
   "metadata": {},
   "outputs": [
    {
     "data": {
      "text/plain": [
       "{'BKHA', 'DYCQ', 'HLXB', 'IBAC', 'INTJ', 'JVSA', 'LEGT', 'MNDR', 'TRSG'}"
      ]
     },
     "execution_count": 25,
     "metadata": {},
     "output_type": "execute_result"
    }
   ],
   "source": [
    "set(top_10_sharpe['Ticker'].values).difference(set(top_10_growth_yoy['Ticker'].values))"
   ]
  },
  {
   "cell_type": "markdown",
   "id": "1ea3ec7a",
   "metadata": {},
   "source": [
    "# Question 3"
   ]
  },
  {
   "cell_type": "code",
   "execution_count": 26,
   "id": "1d91087d",
   "metadata": {},
   "outputs": [],
   "source": [
    "def compute_future_growth(row, days):\n",
    "    return row.shift(-days) /row"
   ]
  },
  {
   "cell_type": "code",
   "execution_count": 27,
   "id": "a5ff95a1",
   "metadata": {},
   "outputs": [],
   "source": [
    "days = [(f\"future_growth_{i}m\", 21* i) for i in range(1, 13)]"
   ]
  },
  {
   "cell_type": "code",
   "execution_count": 28,
   "id": "1b5f15c6",
   "metadata": {},
   "outputs": [],
   "source": [
    "for col, day in days:\n",
    "    stocks_df[col] = stocks_df.groupby(\"Ticker\")['Close'].transform(lambda x: compute_future_growth(x, day))"
   ]
  },
  {
   "cell_type": "code",
   "execution_count": 29,
   "id": "12f1fe98",
   "metadata": {},
   "outputs": [],
   "source": [
    "selected_cols = ['Close', 'Ticker', 'Year', 'Month', 'Weekday', 'Date'] + [x for x, _ in days]"
   ]
  },
  {
   "cell_type": "code",
   "execution_count": 30,
   "id": "b8260990",
   "metadata": {},
   "outputs": [],
   "source": [
    "min_date_df = stocks_df.groupby('Ticker', as_index=False)['Date'].min()"
   ]
  },
  {
   "cell_type": "code",
   "execution_count": 31,
   "id": "06263632",
   "metadata": {},
   "outputs": [],
   "source": [
    "joined_df = stocks_df.merge(min_date_df, on=['Ticker', 'Date'], how='inner')[selected_cols]"
   ]
  },
  {
   "cell_type": "code",
   "execution_count": 32,
   "id": "f832d4b3",
   "metadata": {},
   "outputs": [
    {
     "data": {
      "text/html": [
       "<div>\n",
       "<style scoped>\n",
       "    .dataframe tbody tr th:only-of-type {\n",
       "        vertical-align: middle;\n",
       "    }\n",
       "\n",
       "    .dataframe tbody tr th {\n",
       "        vertical-align: top;\n",
       "    }\n",
       "\n",
       "    .dataframe thead th {\n",
       "        text-align: right;\n",
       "    }\n",
       "</style>\n",
       "<table border=\"1\" class=\"dataframe\">\n",
       "  <thead>\n",
       "    <tr style=\"text-align: right;\">\n",
       "      <th></th>\n",
       "      <th>Close</th>\n",
       "      <th>Ticker</th>\n",
       "      <th>Year</th>\n",
       "      <th>Month</th>\n",
       "      <th>Weekday</th>\n",
       "      <th>Date</th>\n",
       "      <th>future_growth_1m</th>\n",
       "      <th>future_growth_2m</th>\n",
       "      <th>future_growth_3m</th>\n",
       "      <th>future_growth_4m</th>\n",
       "      <th>future_growth_5m</th>\n",
       "      <th>future_growth_6m</th>\n",
       "      <th>future_growth_7m</th>\n",
       "      <th>future_growth_8m</th>\n",
       "      <th>future_growth_9m</th>\n",
       "      <th>future_growth_10m</th>\n",
       "      <th>future_growth_11m</th>\n",
       "      <th>future_growth_12m</th>\n",
       "    </tr>\n",
       "  </thead>\n",
       "  <tbody>\n",
       "    <tr>\n",
       "      <th>0</th>\n",
       "      <td>23.80</td>\n",
       "      <td>BOW</td>\n",
       "      <td>2024</td>\n",
       "      <td>5</td>\n",
       "      <td>3</td>\n",
       "      <td>2024-05-23</td>\n",
       "      <td>1.02</td>\n",
       "      <td>1.14</td>\n",
       "      <td>1.30</td>\n",
       "      <td>1.17</td>\n",
       "      <td>1.24</td>\n",
       "      <td>1.46</td>\n",
       "      <td>1.44</td>\n",
       "      <td>1.36</td>\n",
       "      <td>1.39</td>\n",
       "      <td>1.72</td>\n",
       "      <td>1.70</td>\n",
       "      <td>1.53</td>\n",
       "    </tr>\n",
       "    <tr>\n",
       "      <th>1</th>\n",
       "      <td>22.29</td>\n",
       "      <td>HDL</td>\n",
       "      <td>2024</td>\n",
       "      <td>5</td>\n",
       "      <td>4</td>\n",
       "      <td>2024-05-17</td>\n",
       "      <td>0.78</td>\n",
       "      <td>0.75</td>\n",
       "      <td>0.67</td>\n",
       "      <td>0.64</td>\n",
       "      <td>0.72</td>\n",
       "      <td>0.72</td>\n",
       "      <td>1.26</td>\n",
       "      <td>1.11</td>\n",
       "      <td>1.03</td>\n",
       "      <td>1.19</td>\n",
       "      <td>0.91</td>\n",
       "      <td>1.00</td>\n",
       "    </tr>\n",
       "    <tr>\n",
       "      <th>2</th>\n",
       "      <td>10.04</td>\n",
       "      <td>RFAI</td>\n",
       "      <td>2024</td>\n",
       "      <td>7</td>\n",
       "      <td>4</td>\n",
       "      <td>2024-07-05</td>\n",
       "      <td>1.00</td>\n",
       "      <td>1.01</td>\n",
       "      <td>1.01</td>\n",
       "      <td>1.01</td>\n",
       "      <td>1.01</td>\n",
       "      <td>1.02</td>\n",
       "      <td>1.02</td>\n",
       "      <td>1.03</td>\n",
       "      <td>1.04</td>\n",
       "      <td>1.04</td>\n",
       "      <td>1.05</td>\n",
       "      <td>NaN</td>\n",
       "    </tr>\n",
       "    <tr>\n",
       "      <th>3</th>\n",
       "      <td>4.07</td>\n",
       "      <td>JDZG</td>\n",
       "      <td>2024</td>\n",
       "      <td>5</td>\n",
       "      <td>2</td>\n",
       "      <td>2024-05-15</td>\n",
       "      <td>0.24</td>\n",
       "      <td>0.21</td>\n",
       "      <td>0.12</td>\n",
       "      <td>0.16</td>\n",
       "      <td>0.27</td>\n",
       "      <td>0.20</td>\n",
       "      <td>0.14</td>\n",
       "      <td>0.18</td>\n",
       "      <td>0.17</td>\n",
       "      <td>0.15</td>\n",
       "      <td>0.12</td>\n",
       "      <td>0.14</td>\n",
       "    </tr>\n",
       "    <tr>\n",
       "      <th>4</th>\n",
       "      <td>4.23</td>\n",
       "      <td>RAY</td>\n",
       "      <td>2024</td>\n",
       "      <td>5</td>\n",
       "      <td>2</td>\n",
       "      <td>2024-05-15</td>\n",
       "      <td>0.84</td>\n",
       "      <td>0.78</td>\n",
       "      <td>0.37</td>\n",
       "      <td>0.46</td>\n",
       "      <td>0.40</td>\n",
       "      <td>0.41</td>\n",
       "      <td>0.40</td>\n",
       "      <td>0.29</td>\n",
       "      <td>0.30</td>\n",
       "      <td>0.26</td>\n",
       "      <td>0.60</td>\n",
       "      <td>0.43</td>\n",
       "    </tr>\n",
       "  </tbody>\n",
       "</table>\n",
       "</div>"
      ],
      "text/plain": [
       "   Close Ticker  Year  Month  Weekday        Date  future_growth_1m  \\\n",
       "0  23.80    BOW  2024      5        3  2024-05-23              1.02   \n",
       "1  22.29    HDL  2024      5        4  2024-05-17              0.78   \n",
       "2  10.04   RFAI  2024      7        4  2024-07-05              1.00   \n",
       "3   4.07   JDZG  2024      5        2  2024-05-15              0.24   \n",
       "4   4.23    RAY  2024      5        2  2024-05-15              0.84   \n",
       "\n",
       "   future_growth_2m  future_growth_3m  future_growth_4m  future_growth_5m  \\\n",
       "0              1.14              1.30              1.17              1.24   \n",
       "1              0.75              0.67              0.64              0.72   \n",
       "2              1.01              1.01              1.01              1.01   \n",
       "3              0.21              0.12              0.16              0.27   \n",
       "4              0.78              0.37              0.46              0.40   \n",
       "\n",
       "   future_growth_6m  future_growth_7m  future_growth_8m  future_growth_9m  \\\n",
       "0              1.46              1.44              1.36              1.39   \n",
       "1              0.72              1.26              1.11              1.03   \n",
       "2              1.02              1.02              1.03              1.04   \n",
       "3              0.20              0.14              0.18              0.17   \n",
       "4              0.41              0.40              0.29              0.30   \n",
       "\n",
       "   future_growth_10m  future_growth_11m  future_growth_12m  \n",
       "0               1.72               1.70               1.53  \n",
       "1               1.19               0.91               1.00  \n",
       "2               1.04               1.05                NaN  \n",
       "3               0.15               0.12               0.14  \n",
       "4               0.26               0.60               0.43  "
      ]
     },
     "execution_count": 32,
     "metadata": {},
     "output_type": "execute_result"
    }
   ],
   "source": [
    "joined_df.head()"
   ]
  },
  {
   "cell_type": "code",
   "execution_count": 33,
   "id": "a307e349",
   "metadata": {},
   "outputs": [
    {
     "data": {
      "text/html": [
       "<div>\n",
       "<style scoped>\n",
       "    .dataframe tbody tr th:only-of-type {\n",
       "        vertical-align: middle;\n",
       "    }\n",
       "\n",
       "    .dataframe tbody tr th {\n",
       "        vertical-align: top;\n",
       "    }\n",
       "\n",
       "    .dataframe thead th {\n",
       "        text-align: right;\n",
       "    }\n",
       "</style>\n",
       "<table border=\"1\" class=\"dataframe\">\n",
       "  <thead>\n",
       "    <tr style=\"text-align: right;\">\n",
       "      <th></th>\n",
       "      <th>count</th>\n",
       "      <th>mean</th>\n",
       "      <th>std</th>\n",
       "      <th>min</th>\n",
       "      <th>25%</th>\n",
       "      <th>50%</th>\n",
       "      <th>75%</th>\n",
       "      <th>max</th>\n",
       "    </tr>\n",
       "  </thead>\n",
       "  <tbody>\n",
       "    <tr>\n",
       "      <th>future_growth_1m</th>\n",
       "      <td>75.00</td>\n",
       "      <td>0.93</td>\n",
       "      <td>0.35</td>\n",
       "      <td>0.10</td>\n",
       "      <td>0.78</td>\n",
       "      <td>0.98</td>\n",
       "      <td>1.05</td>\n",
       "      <td>2.65</td>\n",
       "    </tr>\n",
       "    <tr>\n",
       "      <th>future_growth_2m</th>\n",
       "      <td>75.00</td>\n",
       "      <td>0.94</td>\n",
       "      <td>0.57</td>\n",
       "      <td>0.07</td>\n",
       "      <td>0.69</td>\n",
       "      <td>1.00</td>\n",
       "      <td>1.15</td>\n",
       "      <td>4.87</td>\n",
       "    </tr>\n",
       "    <tr>\n",
       "      <th>future_growth_3m</th>\n",
       "      <td>75.00</td>\n",
       "      <td>0.83</td>\n",
       "      <td>0.41</td>\n",
       "      <td>0.06</td>\n",
       "      <td>0.51</td>\n",
       "      <td>0.93</td>\n",
       "      <td>1.07</td>\n",
       "      <td>2.04</td>\n",
       "    </tr>\n",
       "    <tr>\n",
       "      <th>future_growth_4m</th>\n",
       "      <td>75.00</td>\n",
       "      <td>0.83</td>\n",
       "      <td>0.40</td>\n",
       "      <td>0.05</td>\n",
       "      <td>0.52</td>\n",
       "      <td>0.91</td>\n",
       "      <td>1.13</td>\n",
       "      <td>1.61</td>\n",
       "    </tr>\n",
       "    <tr>\n",
       "      <th>future_growth_5m</th>\n",
       "      <td>75.00</td>\n",
       "      <td>0.80</td>\n",
       "      <td>0.49</td>\n",
       "      <td>0.05</td>\n",
       "      <td>0.45</td>\n",
       "      <td>0.82</td>\n",
       "      <td>1.02</td>\n",
       "      <td>3.21</td>\n",
       "    </tr>\n",
       "    <tr>\n",
       "      <th>future_growth_6m</th>\n",
       "      <td>75.00</td>\n",
       "      <td>0.86</td>\n",
       "      <td>0.65</td>\n",
       "      <td>0.06</td>\n",
       "      <td>0.38</td>\n",
       "      <td>0.80</td>\n",
       "      <td>1.09</td>\n",
       "      <td>3.67</td>\n",
       "    </tr>\n",
       "    <tr>\n",
       "      <th>future_growth_7m</th>\n",
       "      <td>75.00</td>\n",
       "      <td>0.85</td>\n",
       "      <td>0.71</td>\n",
       "      <td>0.05</td>\n",
       "      <td>0.30</td>\n",
       "      <td>0.84</td>\n",
       "      <td>1.11</td>\n",
       "      <td>5.12</td>\n",
       "    </tr>\n",
       "    <tr>\n",
       "      <th>future_growth_8m</th>\n",
       "      <td>75.00</td>\n",
       "      <td>0.83</td>\n",
       "      <td>0.76</td>\n",
       "      <td>0.04</td>\n",
       "      <td>0.21</td>\n",
       "      <td>0.81</td>\n",
       "      <td>1.08</td>\n",
       "      <td>5.17</td>\n",
       "    </tr>\n",
       "    <tr>\n",
       "      <th>future_growth_9m</th>\n",
       "      <td>75.00</td>\n",
       "      <td>0.88</td>\n",
       "      <td>0.94</td>\n",
       "      <td>0.03</td>\n",
       "      <td>0.23</td>\n",
       "      <td>0.82</td>\n",
       "      <td>1.05</td>\n",
       "      <td>6.76</td>\n",
       "    </tr>\n",
       "    <tr>\n",
       "      <th>future_growth_10m</th>\n",
       "      <td>74.00</td>\n",
       "      <td>0.92</td>\n",
       "      <td>0.91</td>\n",
       "      <td>0.04</td>\n",
       "      <td>0.24</td>\n",
       "      <td>0.77</td>\n",
       "      <td>1.20</td>\n",
       "      <td>5.35</td>\n",
       "    </tr>\n",
       "    <tr>\n",
       "      <th>future_growth_11m</th>\n",
       "      <td>74.00</td>\n",
       "      <td>0.88</td>\n",
       "      <td>0.86</td>\n",
       "      <td>0.02</td>\n",
       "      <td>0.26</td>\n",
       "      <td>0.72</td>\n",
       "      <td>1.11</td>\n",
       "      <td>4.45</td>\n",
       "    </tr>\n",
       "    <tr>\n",
       "      <th>future_growth_12m</th>\n",
       "      <td>71.00</td>\n",
       "      <td>0.90</td>\n",
       "      <td>0.89</td>\n",
       "      <td>0.04</td>\n",
       "      <td>0.23</td>\n",
       "      <td>0.66</td>\n",
       "      <td>1.14</td>\n",
       "      <td>4.85</td>\n",
       "    </tr>\n",
       "  </tbody>\n",
       "</table>\n",
       "</div>"
      ],
      "text/plain": [
       "                   count  mean  std  min  25%  50%  75%  max\n",
       "future_growth_1m   75.00  0.93 0.35 0.10 0.78 0.98 1.05 2.65\n",
       "future_growth_2m   75.00  0.94 0.57 0.07 0.69 1.00 1.15 4.87\n",
       "future_growth_3m   75.00  0.83 0.41 0.06 0.51 0.93 1.07 2.04\n",
       "future_growth_4m   75.00  0.83 0.40 0.05 0.52 0.91 1.13 1.61\n",
       "future_growth_5m   75.00  0.80 0.49 0.05 0.45 0.82 1.02 3.21\n",
       "future_growth_6m   75.00  0.86 0.65 0.06 0.38 0.80 1.09 3.67\n",
       "future_growth_7m   75.00  0.85 0.71 0.05 0.30 0.84 1.11 5.12\n",
       "future_growth_8m   75.00  0.83 0.76 0.04 0.21 0.81 1.08 5.17\n",
       "future_growth_9m   75.00  0.88 0.94 0.03 0.23 0.82 1.05 6.76\n",
       "future_growth_10m  74.00  0.92 0.91 0.04 0.24 0.77 1.20 5.35\n",
       "future_growth_11m  74.00  0.88 0.86 0.02 0.26 0.72 1.11 4.45\n",
       "future_growth_12m  71.00  0.90 0.89 0.04 0.23 0.66 1.14 4.85"
      ]
     },
     "execution_count": 33,
     "metadata": {},
     "output_type": "execute_result"
    }
   ],
   "source": [
    "joined_df[[x for x, _ in days]].describe().T"
   ]
  },
  {
   "cell_type": "markdown",
   "id": "6a5164f8",
   "metadata": {},
   "source": [
    "# Question 4"
   ]
  },
  {
   "cell_type": "code",
   "execution_count": 34,
   "id": "68e9306e",
   "metadata": {},
   "outputs": [
    {
     "name": "stderr",
     "output_type": "stream",
     "text": [
      "Downloading...\n",
      "From (original): https://drive.google.com/uc?id=1grCTCzMZKY5sJRtdbLVCXg8JXA8VPyg-\n",
      "From (redirected): https://drive.google.com/uc?id=1grCTCzMZKY5sJRtdbLVCXg8JXA8VPyg-&confirm=t&uuid=eee0c211-84d6-49a4-a60d-c7d5027a709c\n",
      "To: /workspaces/stock-markets-zoomcamp/hw2/data.parquet\n",
      "100%|██████████| 130M/130M [00:02<00:00, 61.8MB/s] \n"
     ]
    }
   ],
   "source": [
    "\n",
    "file_id = \"1grCTCzMZKY5sJRtdbLVCXg8JXA8VPyg-\"\n",
    "gdown.download(f\"https://drive.google.com/uc?id={file_id}\", \"data.parquet\", quiet=False)\n",
    "df = pd.read_parquet(\"data.parquet\", engine=\"pyarrow\")"
   ]
  },
  {
   "cell_type": "code",
   "execution_count": 42,
   "id": "7fc23932",
   "metadata": {},
   "outputs": [],
   "source": [
    "rsi_threshold = 25\n",
    "selected_df = df[\n",
    "    (df['rsi'] < rsi_threshold) &\n",
    "    (df['Date'] >= '2000-01-01') &\n",
    "    (df['Date'] <= '2025-06-01')\n",
    "].copy()"
   ]
  },
  {
   "cell_type": "code",
   "execution_count": 43,
   "id": "b9c1c6ec",
   "metadata": {},
   "outputs": [],
   "source": [
    "net_income = 1000 * (selected_df['growth_future_30d'] - 1).sum()"
   ]
  },
  {
   "cell_type": "code",
   "execution_count": 44,
   "id": "d6c23302",
   "metadata": {},
   "outputs": [
    {
     "data": {
      "text/plain": [
       "np.float64(24.295523125248387)"
      ]
     },
     "execution_count": 44,
     "metadata": {},
     "output_type": "execute_result"
    }
   ],
   "source": [
    "net_income/1000"
   ]
  },
  {
   "cell_type": "markdown",
   "id": "7a938128",
   "metadata": {},
   "source": [
    "# Plot Volatility vs. RSI"
   ]
  },
  {
   "cell_type": "code",
   "execution_count": 45,
   "id": "8c005aa7",
   "metadata": {},
   "outputs": [],
   "source": [
    "ticker_sector_map = {\n",
    "    # U.S. Tech\n",
    "    'MSFT': 'Information Technology',\n",
    "    'AAPL': 'Information Technology',\n",
    "    'GOOG': 'Communication Services',\n",
    "    'NVDA': 'Information Technology',\n",
    "    'AMZN': 'Consumer Discretionary',\n",
    "    'META': 'Communication Services',\n",
    "\n",
    "    # U.S. Financials / Healthcare / Industrials\n",
    "    'BRK-B': 'Financials',\n",
    "    'LLY': 'Health Care',\n",
    "    'AVGO': 'Information Technology',\n",
    "    'V': 'Information Technology',\n",
    "    'JPM': 'Financials',\n",
    "    'NVO': 'Health Care',\n",
    "\n",
    "    # European Stocks\n",
    "    'MC.PA': 'Consumer Discretionary',      # LVMH\n",
    "    'ASML': 'Information Technology',\n",
    "    'RMS.PA': 'Consumer Discretionary',     # Hermès\n",
    "    'OR.PA': 'Consumer Staples',            # L'Oréal\n",
    "    'SAP': 'Information Technology',\n",
    "    'ACN': 'Information Technology',\n",
    "    'TTE': 'Energy',                        # TotalEnergies\n",
    "    'SIE.DE': 'Industrials',                # Siemens\n",
    "    'IDEXY': 'Industrials',                 # Idex Corporation\n",
    "    'CDI.PA': 'Consumer Discretionary',     # Christian Dior\n",
    "\n",
    "    # Indian Stocks\n",
    "    'RELIANCE.NS': 'Energy',\n",
    "    'TCS.NS': 'Information Technology',\n",
    "    'HDB': 'Financials',                    # HDFC Bank\n",
    "    'BHARTIARTL.NS': 'Communication Services',\n",
    "    'IBN': 'Financials',                    # ICICI Bank\n",
    "    'SBIN.NS': 'Financials',                # State Bank of India\n",
    "    'LICI.NS': 'Financials',                # Life Insurance Corp\n",
    "    'INFY': 'Information Technology',\n",
    "    'ITC.NS': 'Consumer Staples',\n",
    "    'HINDUNILVR.NS': 'Consumer Staples',\n",
    "    'LT.NS': 'Industrials'                  # Larsen & Toubro\n",
    "}"
   ]
  },
  {
   "cell_type": "code",
   "execution_count": 46,
   "id": "cdcde6d2",
   "metadata": {},
   "outputs": [],
   "source": [
    "selected_df['sector'] = selected_df['Ticker'].map(ticker_sector_map)"
   ]
  },
  {
   "cell_type": "code",
   "execution_count": 55,
   "id": "689f2553",
   "metadata": {},
   "outputs": [],
   "source": [
    "df_plot = selected_df.groupby(['sector'], as_index=False).agg({'volatility':'mean',\n",
    "                                                               'rsi':'mean'})"
   ]
  },
  {
   "cell_type": "code",
   "execution_count": 56,
   "id": "54e85f32",
   "metadata": {},
   "outputs": [
    {
     "data": {
      "text/html": [
       "<div>\n",
       "<style scoped>\n",
       "    .dataframe tbody tr th:only-of-type {\n",
       "        vertical-align: middle;\n",
       "    }\n",
       "\n",
       "    .dataframe tbody tr th {\n",
       "        vertical-align: top;\n",
       "    }\n",
       "\n",
       "    .dataframe thead th {\n",
       "        text-align: right;\n",
       "    }\n",
       "</style>\n",
       "<table border=\"1\" class=\"dataframe\">\n",
       "  <thead>\n",
       "    <tr style=\"text-align: right;\">\n",
       "      <th></th>\n",
       "      <th>sector</th>\n",
       "      <th>volatility</th>\n",
       "      <th>rsi</th>\n",
       "    </tr>\n",
       "  </thead>\n",
       "  <tbody>\n",
       "    <tr>\n",
       "      <th>0</th>\n",
       "      <td>Communication Services</td>\n",
       "      <td>191.39</td>\n",
       "      <td>22.46</td>\n",
       "    </tr>\n",
       "    <tr>\n",
       "      <th>1</th>\n",
       "      <td>Consumer Discretionary</td>\n",
       "      <td>226.13</td>\n",
       "      <td>21.01</td>\n",
       "    </tr>\n",
       "    <tr>\n",
       "      <th>2</th>\n",
       "      <td>Consumer Staples</td>\n",
       "      <td>270.41</td>\n",
       "      <td>21.75</td>\n",
       "    </tr>\n",
       "    <tr>\n",
       "      <th>3</th>\n",
       "      <td>Energy</td>\n",
       "      <td>154.47</td>\n",
       "      <td>21.59</td>\n",
       "    </tr>\n",
       "    <tr>\n",
       "      <th>4</th>\n",
       "      <td>Financials</td>\n",
       "      <td>101.86</td>\n",
       "      <td>21.03</td>\n",
       "    </tr>\n",
       "    <tr>\n",
       "      <th>5</th>\n",
       "      <td>Health Care</td>\n",
       "      <td>61.78</td>\n",
       "      <td>22.32</td>\n",
       "    </tr>\n",
       "    <tr>\n",
       "      <th>6</th>\n",
       "      <td>Industrials</td>\n",
       "      <td>338.67</td>\n",
       "      <td>19.76</td>\n",
       "    </tr>\n",
       "    <tr>\n",
       "      <th>7</th>\n",
       "      <td>Information Technology</td>\n",
       "      <td>143.20</td>\n",
       "      <td>19.74</td>\n",
       "    </tr>\n",
       "  </tbody>\n",
       "</table>\n",
       "</div>"
      ],
      "text/plain": [
       "                   sector  volatility   rsi\n",
       "0  Communication Services      191.39 22.46\n",
       "1  Consumer Discretionary      226.13 21.01\n",
       "2        Consumer Staples      270.41 21.75\n",
       "3                  Energy      154.47 21.59\n",
       "4              Financials      101.86 21.03\n",
       "5             Health Care       61.78 22.32\n",
       "6             Industrials      338.67 19.76\n",
       "7  Information Technology      143.20 19.74"
      ]
     },
     "execution_count": 56,
     "metadata": {},
     "output_type": "execute_result"
    }
   ],
   "source": [
    "df_plot"
   ]
  },
  {
   "cell_type": "code",
   "execution_count": 57,
   "id": "e422105f",
   "metadata": {},
   "outputs": [
    {
     "data": {
      "application/vnd.plotly.v1+json": {
       "config": {
        "plotlyServerURL": "https://plot.ly"
       },
       "data": [
        {
         "hovertemplate": "sector=Communication Services<br>volatility=%{x}<br>rsi=%{y}<extra></extra>",
         "legendgroup": "Communication Services",
         "marker": {
          "color": "#636efa",
          "symbol": "circle"
         },
         "mode": "markers",
         "name": "Communication Services",
         "orientation": "v",
         "showlegend": true,
         "type": "scatter",
         "x": {
          "bdata": "QSMEYGzsZ0A=",
          "dtype": "f8"
         },
         "xaxis": "x",
         "y": {
          "bdata": "3/yMuxF1NkA=",
          "dtype": "f8"
         },
         "yaxis": "y"
        },
        {
         "hovertemplate": "sector=Consumer Discretionary<br>volatility=%{x}<br>rsi=%{y}<extra></extra>",
         "legendgroup": "Consumer Discretionary",
         "marker": {
          "color": "#EF553B",
          "symbol": "circle"
         },
         "mode": "markers",
         "name": "Consumer Discretionary",
         "orientation": "v",
         "showlegend": true,
         "type": "scatter",
         "x": {
          "bdata": "9sHJXwlEbEA=",
          "dtype": "f8"
         },
         "xaxis": "x",
         "y": {
          "bdata": "3Vm3QVMBNUA=",
          "dtype": "f8"
         },
         "yaxis": "y"
        },
        {
         "hovertemplate": "sector=Consumer Staples<br>volatility=%{x}<br>rsi=%{y}<extra></extra>",
         "legendgroup": "Consumer Staples",
         "marker": {
          "color": "#00cc96",
          "symbol": "circle"
         },
         "mode": "markers",
         "name": "Consumer Staples",
         "orientation": "v",
         "showlegend": true,
         "type": "scatter",
         "x": {
          "bdata": "49POyJDmcEA=",
          "dtype": "f8"
         },
         "xaxis": "x",
         "y": {
          "bdata": "CH7ht/i/NUA=",
          "dtype": "f8"
         },
         "yaxis": "y"
        },
        {
         "hovertemplate": "sector=Energy<br>volatility=%{x}<br>rsi=%{y}<extra></extra>",
         "legendgroup": "Energy",
         "marker": {
          "color": "#ab63fa",
          "symbol": "circle"
         },
         "mode": "markers",
         "name": "Energy",
         "orientation": "v",
         "showlegend": true,
         "type": "scatter",
         "x": {
          "bdata": "q+fILvFOY0A=",
          "dtype": "f8"
         },
         "xaxis": "x",
         "y": {
          "bdata": "HFGjq1eWNUA=",
          "dtype": "f8"
         },
         "yaxis": "y"
        },
        {
         "hovertemplate": "sector=Financials<br>volatility=%{x}<br>rsi=%{y}<extra></extra>",
         "legendgroup": "Financials",
         "marker": {
          "color": "#FFA15A",
          "symbol": "circle"
         },
         "mode": "markers",
         "name": "Financials",
         "orientation": "v",
         "showlegend": true,
         "type": "scatter",
         "x": {
          "bdata": "lPrdS1l3WUA=",
          "dtype": "f8"
         },
         "xaxis": "x",
         "y": {
          "bdata": "QWnmjJIGNUA=",
          "dtype": "f8"
         },
         "yaxis": "y"
        },
        {
         "hovertemplate": "sector=Health Care<br>volatility=%{x}<br>rsi=%{y}<extra></extra>",
         "legendgroup": "Health Care",
         "marker": {
          "color": "#19d3f3",
          "symbol": "circle"
         },
         "mode": "markers",
         "name": "Health Care",
         "orientation": "v",
         "showlegend": true,
         "type": "scatter",
         "x": {
          "bdata": "VMDX74LjTkA=",
          "dtype": "f8"
         },
         "xaxis": "x",
         "y": {
          "bdata": "pXXpdBNSNkA=",
          "dtype": "f8"
         },
         "yaxis": "y"
        },
        {
         "hovertemplate": "sector=Industrials<br>volatility=%{x}<br>rsi=%{y}<extra></extra>",
         "legendgroup": "Industrials",
         "marker": {
          "color": "#FF6692",
          "symbol": "circle"
         },
         "mode": "markers",
         "name": "Industrials",
         "orientation": "v",
         "showlegend": true,
         "type": "scatter",
         "x": {
          "bdata": "o5cBNswqdUA=",
          "dtype": "f8"
         },
         "xaxis": "x",
         "y": {
          "bdata": "MGqwdHPDM0A=",
          "dtype": "f8"
         },
         "yaxis": "y"
        },
        {
         "hovertemplate": "sector=Information Technology<br>volatility=%{x}<br>rsi=%{y}<extra></extra>",
         "legendgroup": "Information Technology",
         "marker": {
          "color": "#B6E880",
          "symbol": "circle"
         },
         "mode": "markers",
         "name": "Information Technology",
         "orientation": "v",
         "showlegend": true,
         "type": "scatter",
         "x": {
          "bdata": "r2eOImvmYUA=",
          "dtype": "f8"
         },
         "xaxis": "x",
         "y": {
          "bdata": "8gE62nO9M0A=",
          "dtype": "f8"
         },
         "yaxis": "y"
        }
       ],
       "layout": {
        "legend": {
         "title": {
          "text": "sector"
         },
         "tracegroupgap": 0
        },
        "template": {
         "data": {
          "bar": [
           {
            "error_x": {
             "color": "#2a3f5f"
            },
            "error_y": {
             "color": "#2a3f5f"
            },
            "marker": {
             "line": {
              "color": "#E5ECF6",
              "width": 0.5
             },
             "pattern": {
              "fillmode": "overlay",
              "size": 10,
              "solidity": 0.2
             }
            },
            "type": "bar"
           }
          ],
          "barpolar": [
           {
            "marker": {
             "line": {
              "color": "#E5ECF6",
              "width": 0.5
             },
             "pattern": {
              "fillmode": "overlay",
              "size": 10,
              "solidity": 0.2
             }
            },
            "type": "barpolar"
           }
          ],
          "carpet": [
           {
            "aaxis": {
             "endlinecolor": "#2a3f5f",
             "gridcolor": "white",
             "linecolor": "white",
             "minorgridcolor": "white",
             "startlinecolor": "#2a3f5f"
            },
            "baxis": {
             "endlinecolor": "#2a3f5f",
             "gridcolor": "white",
             "linecolor": "white",
             "minorgridcolor": "white",
             "startlinecolor": "#2a3f5f"
            },
            "type": "carpet"
           }
          ],
          "choropleth": [
           {
            "colorbar": {
             "outlinewidth": 0,
             "ticks": ""
            },
            "type": "choropleth"
           }
          ],
          "contour": [
           {
            "colorbar": {
             "outlinewidth": 0,
             "ticks": ""
            },
            "colorscale": [
             [
              0,
              "#0d0887"
             ],
             [
              0.1111111111111111,
              "#46039f"
             ],
             [
              0.2222222222222222,
              "#7201a8"
             ],
             [
              0.3333333333333333,
              "#9c179e"
             ],
             [
              0.4444444444444444,
              "#bd3786"
             ],
             [
              0.5555555555555556,
              "#d8576b"
             ],
             [
              0.6666666666666666,
              "#ed7953"
             ],
             [
              0.7777777777777778,
              "#fb9f3a"
             ],
             [
              0.8888888888888888,
              "#fdca26"
             ],
             [
              1,
              "#f0f921"
             ]
            ],
            "type": "contour"
           }
          ],
          "contourcarpet": [
           {
            "colorbar": {
             "outlinewidth": 0,
             "ticks": ""
            },
            "type": "contourcarpet"
           }
          ],
          "heatmap": [
           {
            "colorbar": {
             "outlinewidth": 0,
             "ticks": ""
            },
            "colorscale": [
             [
              0,
              "#0d0887"
             ],
             [
              0.1111111111111111,
              "#46039f"
             ],
             [
              0.2222222222222222,
              "#7201a8"
             ],
             [
              0.3333333333333333,
              "#9c179e"
             ],
             [
              0.4444444444444444,
              "#bd3786"
             ],
             [
              0.5555555555555556,
              "#d8576b"
             ],
             [
              0.6666666666666666,
              "#ed7953"
             ],
             [
              0.7777777777777778,
              "#fb9f3a"
             ],
             [
              0.8888888888888888,
              "#fdca26"
             ],
             [
              1,
              "#f0f921"
             ]
            ],
            "type": "heatmap"
           }
          ],
          "histogram": [
           {
            "marker": {
             "pattern": {
              "fillmode": "overlay",
              "size": 10,
              "solidity": 0.2
             }
            },
            "type": "histogram"
           }
          ],
          "histogram2d": [
           {
            "colorbar": {
             "outlinewidth": 0,
             "ticks": ""
            },
            "colorscale": [
             [
              0,
              "#0d0887"
             ],
             [
              0.1111111111111111,
              "#46039f"
             ],
             [
              0.2222222222222222,
              "#7201a8"
             ],
             [
              0.3333333333333333,
              "#9c179e"
             ],
             [
              0.4444444444444444,
              "#bd3786"
             ],
             [
              0.5555555555555556,
              "#d8576b"
             ],
             [
              0.6666666666666666,
              "#ed7953"
             ],
             [
              0.7777777777777778,
              "#fb9f3a"
             ],
             [
              0.8888888888888888,
              "#fdca26"
             ],
             [
              1,
              "#f0f921"
             ]
            ],
            "type": "histogram2d"
           }
          ],
          "histogram2dcontour": [
           {
            "colorbar": {
             "outlinewidth": 0,
             "ticks": ""
            },
            "colorscale": [
             [
              0,
              "#0d0887"
             ],
             [
              0.1111111111111111,
              "#46039f"
             ],
             [
              0.2222222222222222,
              "#7201a8"
             ],
             [
              0.3333333333333333,
              "#9c179e"
             ],
             [
              0.4444444444444444,
              "#bd3786"
             ],
             [
              0.5555555555555556,
              "#d8576b"
             ],
             [
              0.6666666666666666,
              "#ed7953"
             ],
             [
              0.7777777777777778,
              "#fb9f3a"
             ],
             [
              0.8888888888888888,
              "#fdca26"
             ],
             [
              1,
              "#f0f921"
             ]
            ],
            "type": "histogram2dcontour"
           }
          ],
          "mesh3d": [
           {
            "colorbar": {
             "outlinewidth": 0,
             "ticks": ""
            },
            "type": "mesh3d"
           }
          ],
          "parcoords": [
           {
            "line": {
             "colorbar": {
              "outlinewidth": 0,
              "ticks": ""
             }
            },
            "type": "parcoords"
           }
          ],
          "pie": [
           {
            "automargin": true,
            "type": "pie"
           }
          ],
          "scatter": [
           {
            "fillpattern": {
             "fillmode": "overlay",
             "size": 10,
             "solidity": 0.2
            },
            "type": "scatter"
           }
          ],
          "scatter3d": [
           {
            "line": {
             "colorbar": {
              "outlinewidth": 0,
              "ticks": ""
             }
            },
            "marker": {
             "colorbar": {
              "outlinewidth": 0,
              "ticks": ""
             }
            },
            "type": "scatter3d"
           }
          ],
          "scattercarpet": [
           {
            "marker": {
             "colorbar": {
              "outlinewidth": 0,
              "ticks": ""
             }
            },
            "type": "scattercarpet"
           }
          ],
          "scattergeo": [
           {
            "marker": {
             "colorbar": {
              "outlinewidth": 0,
              "ticks": ""
             }
            },
            "type": "scattergeo"
           }
          ],
          "scattergl": [
           {
            "marker": {
             "colorbar": {
              "outlinewidth": 0,
              "ticks": ""
             }
            },
            "type": "scattergl"
           }
          ],
          "scattermap": [
           {
            "marker": {
             "colorbar": {
              "outlinewidth": 0,
              "ticks": ""
             }
            },
            "type": "scattermap"
           }
          ],
          "scattermapbox": [
           {
            "marker": {
             "colorbar": {
              "outlinewidth": 0,
              "ticks": ""
             }
            },
            "type": "scattermapbox"
           }
          ],
          "scatterpolar": [
           {
            "marker": {
             "colorbar": {
              "outlinewidth": 0,
              "ticks": ""
             }
            },
            "type": "scatterpolar"
           }
          ],
          "scatterpolargl": [
           {
            "marker": {
             "colorbar": {
              "outlinewidth": 0,
              "ticks": ""
             }
            },
            "type": "scatterpolargl"
           }
          ],
          "scatterternary": [
           {
            "marker": {
             "colorbar": {
              "outlinewidth": 0,
              "ticks": ""
             }
            },
            "type": "scatterternary"
           }
          ],
          "surface": [
           {
            "colorbar": {
             "outlinewidth": 0,
             "ticks": ""
            },
            "colorscale": [
             [
              0,
              "#0d0887"
             ],
             [
              0.1111111111111111,
              "#46039f"
             ],
             [
              0.2222222222222222,
              "#7201a8"
             ],
             [
              0.3333333333333333,
              "#9c179e"
             ],
             [
              0.4444444444444444,
              "#bd3786"
             ],
             [
              0.5555555555555556,
              "#d8576b"
             ],
             [
              0.6666666666666666,
              "#ed7953"
             ],
             [
              0.7777777777777778,
              "#fb9f3a"
             ],
             [
              0.8888888888888888,
              "#fdca26"
             ],
             [
              1,
              "#f0f921"
             ]
            ],
            "type": "surface"
           }
          ],
          "table": [
           {
            "cells": {
             "fill": {
              "color": "#EBF0F8"
             },
             "line": {
              "color": "white"
             }
            },
            "header": {
             "fill": {
              "color": "#C8D4E3"
             },
             "line": {
              "color": "white"
             }
            },
            "type": "table"
           }
          ]
         },
         "layout": {
          "annotationdefaults": {
           "arrowcolor": "#2a3f5f",
           "arrowhead": 0,
           "arrowwidth": 1
          },
          "autotypenumbers": "strict",
          "coloraxis": {
           "colorbar": {
            "outlinewidth": 0,
            "ticks": ""
           }
          },
          "colorscale": {
           "diverging": [
            [
             0,
             "#8e0152"
            ],
            [
             0.1,
             "#c51b7d"
            ],
            [
             0.2,
             "#de77ae"
            ],
            [
             0.3,
             "#f1b6da"
            ],
            [
             0.4,
             "#fde0ef"
            ],
            [
             0.5,
             "#f7f7f7"
            ],
            [
             0.6,
             "#e6f5d0"
            ],
            [
             0.7,
             "#b8e186"
            ],
            [
             0.8,
             "#7fbc41"
            ],
            [
             0.9,
             "#4d9221"
            ],
            [
             1,
             "#276419"
            ]
           ],
           "sequential": [
            [
             0,
             "#0d0887"
            ],
            [
             0.1111111111111111,
             "#46039f"
            ],
            [
             0.2222222222222222,
             "#7201a8"
            ],
            [
             0.3333333333333333,
             "#9c179e"
            ],
            [
             0.4444444444444444,
             "#bd3786"
            ],
            [
             0.5555555555555556,
             "#d8576b"
            ],
            [
             0.6666666666666666,
             "#ed7953"
            ],
            [
             0.7777777777777778,
             "#fb9f3a"
            ],
            [
             0.8888888888888888,
             "#fdca26"
            ],
            [
             1,
             "#f0f921"
            ]
           ],
           "sequentialminus": [
            [
             0,
             "#0d0887"
            ],
            [
             0.1111111111111111,
             "#46039f"
            ],
            [
             0.2222222222222222,
             "#7201a8"
            ],
            [
             0.3333333333333333,
             "#9c179e"
            ],
            [
             0.4444444444444444,
             "#bd3786"
            ],
            [
             0.5555555555555556,
             "#d8576b"
            ],
            [
             0.6666666666666666,
             "#ed7953"
            ],
            [
             0.7777777777777778,
             "#fb9f3a"
            ],
            [
             0.8888888888888888,
             "#fdca26"
            ],
            [
             1,
             "#f0f921"
            ]
           ]
          },
          "colorway": [
           "#636efa",
           "#EF553B",
           "#00cc96",
           "#ab63fa",
           "#FFA15A",
           "#19d3f3",
           "#FF6692",
           "#B6E880",
           "#FF97FF",
           "#FECB52"
          ],
          "font": {
           "color": "#2a3f5f"
          },
          "geo": {
           "bgcolor": "white",
           "lakecolor": "white",
           "landcolor": "#E5ECF6",
           "showlakes": true,
           "showland": true,
           "subunitcolor": "white"
          },
          "hoverlabel": {
           "align": "left"
          },
          "hovermode": "closest",
          "mapbox": {
           "style": "light"
          },
          "paper_bgcolor": "white",
          "plot_bgcolor": "#E5ECF6",
          "polar": {
           "angularaxis": {
            "gridcolor": "white",
            "linecolor": "white",
            "ticks": ""
           },
           "bgcolor": "#E5ECF6",
           "radialaxis": {
            "gridcolor": "white",
            "linecolor": "white",
            "ticks": ""
           }
          },
          "scene": {
           "xaxis": {
            "backgroundcolor": "#E5ECF6",
            "gridcolor": "white",
            "gridwidth": 2,
            "linecolor": "white",
            "showbackground": true,
            "ticks": "",
            "zerolinecolor": "white"
           },
           "yaxis": {
            "backgroundcolor": "#E5ECF6",
            "gridcolor": "white",
            "gridwidth": 2,
            "linecolor": "white",
            "showbackground": true,
            "ticks": "",
            "zerolinecolor": "white"
           },
           "zaxis": {
            "backgroundcolor": "#E5ECF6",
            "gridcolor": "white",
            "gridwidth": 2,
            "linecolor": "white",
            "showbackground": true,
            "ticks": "",
            "zerolinecolor": "white"
           }
          },
          "shapedefaults": {
           "line": {
            "color": "#2a3f5f"
           }
          },
          "ternary": {
           "aaxis": {
            "gridcolor": "white",
            "linecolor": "white",
            "ticks": ""
           },
           "baxis": {
            "gridcolor": "white",
            "linecolor": "white",
            "ticks": ""
           },
           "bgcolor": "#E5ECF6",
           "caxis": {
            "gridcolor": "white",
            "linecolor": "white",
            "ticks": ""
           }
          },
          "title": {
           "x": 0.05
          },
          "xaxis": {
           "automargin": true,
           "gridcolor": "white",
           "linecolor": "white",
           "ticks": "",
           "title": {
            "standoff": 15
           },
           "zerolinecolor": "white",
           "zerolinewidth": 2
          },
          "yaxis": {
           "automargin": true,
           "gridcolor": "white",
           "linecolor": "white",
           "ticks": "",
           "title": {
            "standoff": 15
           },
           "zerolinecolor": "white",
           "zerolinewidth": 2
          }
         }
        },
        "title": {
         "text": "Volatility vs. RSI"
        },
        "xaxis": {
         "anchor": "y",
         "domain": [
          0,
          1
         ],
         "title": {
          "text": "volatility"
         }
        },
        "yaxis": {
         "anchor": "x",
         "domain": [
          0,
          1
         ],
         "title": {
          "text": "rsi"
         }
        }
       }
      }
     },
     "metadata": {},
     "output_type": "display_data"
    }
   ],
   "source": [
    "fig = px.scatter(df_plot,\n",
    "                 x='volatility', \n",
    "                 y='rsi',\n",
    "                 title='Volatility vs. RSI',\n",
    "                 color='sector')\n",
    "fig.show()"
   ]
  },
  {
   "cell_type": "code",
   "execution_count": null,
   "id": "1c2f8ead",
   "metadata": {},
   "outputs": [],
   "source": []
  }
 ],
 "metadata": {
  "kernelspec": {
   "display_name": "markets",
   "language": "python",
   "name": "python3"
  },
  "language_info": {
   "codemirror_mode": {
    "name": "ipython",
    "version": 3
   },
   "file_extension": ".py",
   "mimetype": "text/x-python",
   "name": "python",
   "nbconvert_exporter": "python",
   "pygments_lexer": "ipython3",
   "version": "3.10.16"
  }
 },
 "nbformat": 4,
 "nbformat_minor": 5
}
